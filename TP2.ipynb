{
 "cells": [
  {
   "cell_type": "code",
   "execution_count": null,
   "metadata": {},
   "outputs": [],
   "source": [
    "print('Tales')\n",
    "print('Lero')"
   ]
  },
  {
   "cell_type": "markdown",
   "metadata": {
    "colab_type": "text",
    "id": "QjHcmBce-zEO"
   },
   "source": [
    "<h1> UNILAB 2018 - Discentes, docentes, disciplinas e cursos \n"
   ]
  },
  {
   "cell_type": "markdown",
   "metadata": {
    "colab_type": "text",
    "id": "lHaRXbvr_ZD1"
   },
   "source": [
    "Membros:\n",
    "*   Lucas Brant - \n",
    "*   Luiz Felipe Nery - 2018054770 \n",
    "*   Pedro Wildemberg - \n",
    "*   Tales Panoutsos - \n",
    "\n",
    "<br>\n",
    "\n",
    "---\n",
    "\n"
   ]
  },
  {
   "cell_type": "markdown",
   "metadata": {
    "colab_type": "text",
    "id": "5o66NKX1_6eF"
   },
   "source": [
    "<h1>  Descrição dos dados</h1>\n",
    "<p>Bla bla</p>\n",
    "<br>\n",
    "\n"
   ]
  },
  {
   "cell_type": "markdown",
   "metadata": {
    "colab_type": "text",
    "id": "ZA1LEYswAD80"
   },
   "source": [
    "<h1>Diagrama ER</h1>"
   ]
  },
  {
   "cell_type": "markdown",
   "metadata": {
    "colab_type": "text",
    "id": "ufW93zBbrCVW"
   },
   "source": [
    "<h1>Diagrama Relacional</h1>\n",
    "<h2> Forma Normalizada\n",
    "\n",
    "* **cursos**(id_curso, nome_curso, nivel, modalidade, area_conhecimento)\n",
    "\n",
    "* **docentes**(id_docente, nome_docente, sigla_unidade, situacao)\n",
    "\n",
    "  docente.sigla_unidade -> unidade.sigla\n",
    "\n",
    "* **unidades**(sigla, nome_unidade)\n",
    "\n",
    "* **discentes**(id_discente, num_matricula, ano_ingresso, periodo_atual, sexo, idade, raca, pais, forma_ingresso, discente_situacao, beneficiado_auxilio, id_curso)\n",
    "\n",
    "* **matriculas**(id_matricula_disciplina, resultado_disciplina, ano, periodo, id_disciplina, id_discente, media_final, numero_faltas)\n",
    "\n",
    "  matricula.id_discente -> discente.id_discente\n",
    "\n",
    "  matricula.id_docente -> docente.id_docente\n",
    "\n",
    "  matricula.id_disciplina -> disciplina.id_disciplina\n",
    "\n",
    "* **disciplinas**(id_disciplina, nome_disciplina, carga_horaria, id_docente)\n",
    "\n",
    "  disciplinas.id_docente -> docentes.id_docentes\n",
    "\n",
    "\n",
    "<br>\n",
    "\n",
    "---\n"
   ]
  },
  {
   "cell_type": "markdown",
   "metadata": {
    "colab_type": "text",
    "id": "86-oDPq6_3v9"
   },
   "source": [
    "<h1>Baixando os dados\n",
    "\n",
    "<br>\n",
    "<p>Todos os dados são referentes ao ano de 2018"
   ]
  },
  {
   "cell_type": "code",
   "execution_count": null,
   "metadata": {
    "colab": {
     "base_uri": "https://localhost:8080/",
     "height": 781
    },
    "colab_type": "code",
    "id": "_fNkTvRLrZ9V",
    "outputId": "a09bd678-2998-42e0-c5bd-11e372f4dea4"
   },
   "outputs": [],
   "source": [
    "#matriculas\n",
    "#Modelo:     !wget  -O .csv\n",
    "!wget http://dadosabertos.unilab.edu.br:8001/csv/matriculas_2018.csv -O matriculas_2018.csv\n",
    "!wget http://dadosabertos.unilab.edu.br:8001/csv/lista_discentes.csv -O alunos.csv\n",
    "!wget http://dadosabertos.unilab.edu.br:8001/csv/cursos_graduacao.csv -O cursos.csv\n",
    "!wget http://dadosabertos.unilab.edu.br:8001/csv/docentes.csv -O docentes.csv\n"
   ]
  },
  {
   "cell_type": "code",
   "execution_count": null,
   "metadata": {
    "colab": {
     "base_uri": "https://localhost:8080/",
     "height": 225
    },
    "colab_type": "code",
    "id": "NQWPK4qt-_Av",
    "outputId": "6be7b410-2ecf-4680-c158-24bc1cac0c40"
   },
   "outputs": [],
   "source": [
    "!wget -c \"http://dadosabertos.unilab.edu.br/api/action/datastore_search?resource_id=89132ea3-318d-44e1-a269-2795ed168ae8&limit=1600\" -O  disciplinas.json"
   ]
  },
  {
   "cell_type": "code",
   "execution_count": null,
   "metadata": {},
   "outputs": [],
   "source": [
    "!ls"
   ]
  },
  {
   "cell_type": "markdown",
   "metadata": {
    "colab_type": "text",
    "id": "LX4WWwC9OoF3"
   },
   "source": [
    "--- \n",
    "\n",
    "<br>\n",
    "<h1>Adicionando bibliotecas\n"
   ]
  },
  {
   "cell_type": "code",
   "execution_count": null,
   "metadata": {
    "colab": {},
    "colab_type": "code",
    "id": "daL_NBlHtMx2"
   },
   "outputs": [],
   "source": [
    "import io\n",
    "import sqlite3\n",
    "import pandas as pd\n",
    "import numpy as np"
   ]
  },
  {
   "cell_type": "markdown",
   "metadata": {
    "colab_type": "text",
    "id": "EvnzPT68ODUM"
   },
   "source": [
    "<br>\n",
    "\n",
    "---\n",
    "\n",
    "<br>\n",
    "\n",
    "<h1>Editando os dados\n",
    "<br>\n",
    "\n",
    "<br>\n",
    "\n",
    "<h2>Disciplinas"
   ]
  },
  {
   "cell_type": "code",
   "execution_count": null,
   "metadata": {
    "colab": {
     "base_uri": "https://localhost:8080/",
     "height": 381
    },
    "colab_type": "code",
    "id": "NMXoIbWEtPZZ",
    "outputId": "0e1b2673-4ce7-487b-a8fa-3b0982d39475"
   },
   "outputs": [],
   "source": [
    "#json cru, obtido da requisicao\n",
    "disciplinas = pd.read_json(\"disciplinas.json\")\n",
    "\n",
    "#Selecionamos somente os resultados na coluna \"result\" linha \"records\"\n",
    "disciplinas = pd.DataFrame.from_dict(disciplinas[\"result\"][\"records\"], orient='columns')\n",
    "\n",
    "disciplinas = disciplinas.drop(\"unidade\",1)\n",
    "disciplinas = disciplinas.drop(\"curso\",1)\n",
    "disciplinas = disciplinas.drop(\"horario\",1)\n",
    "disciplinas = disciplinas.drop(\"vagas\",1)\n",
    "disciplinas = disciplinas.drop(\"_id\",1)\n",
    "disciplinas = disciplinas.drop(\"local\",1)\n",
    "disciplinas = disciplinas.drop(\"id_unidade\",1)\n",
    "\n",
    "#cada disciplina so pode ser dada por um professor\n",
    "disciplinas.drop_duplicates(\"codigo_disciplina\", keep = 'first', inplace = True)\n",
    "\n",
    "print(len(disciplinas))\n",
    "disciplinas.head()"
   ]
  },
  {
   "cell_type": "code",
   "execution_count": null,
   "metadata": {
    "colab": {},
    "colab_type": "code",
    "id": "yM5jXqqCUmje"
   },
   "outputs": [],
   "source": [
    "disciplinas[disciplinas[\"codigo_disciplina\"] == \"CCAP0103\"]"
   ]
  },
  {
   "cell_type": "markdown",
   "metadata": {
    "colab_type": "text",
    "id": "ButlzPH8RcK5"
   },
   "source": [
    "<br>\n",
    "\n",
    "---\n",
    "\n",
    "<br>\n",
    "\n",
    "<h2>Matriculas</h2>\n",
    "\n",
    "\n"
   ]
  },
  {
   "cell_type": "markdown",
   "metadata": {
    "colab_type": "text",
    "id": "ft3I59dP-INq"
   },
   "source": [
    "\n",
    "* **matriculas**(id_matricula_disciplina, resultado_disciplina, ano, periodo, id_disciplina, id_discente, media_final, numero_faltas, docente_nome)\n",
    "\n",
    "  matricula.id_discente -> discente.id_discente\n",
    "\n",
    "  matricula.id_docente -> docente.id_docente\n",
    "\n",
    "  matricula.id_disciplina -> disciplina.id_disciplina"
   ]
  },
  {
   "cell_type": "code",
   "execution_count": null,
   "metadata": {
    "colab": {
     "base_uri": "https://localhost:8080/",
     "height": 245
    },
    "colab_type": "code",
    "id": "utrzu37ptPWs",
    "outputId": "8ea1d2ca-eb07-4739-9dff-e9d58cc44299"
   },
   "outputs": [],
   "source": [
    "matriculas_denorm = pd.read_csv(\"matriculas_2018.csv\")\n",
    "\n",
    "matriculas = matriculas_denorm[['id_matricula_disciplina', 'resultado_disciplina', 'ano', 'periodo', 'codigo_disciplina', 'id_discente', 'media_final', 'numero_faltas']].copy()\n",
    "print('Número de linhas: ',len(matriculas))\n",
    "matriculas.drop_duplicates(inplace = True)\n",
    "matriculas.head(6)"
   ]
  },
  {
   "cell_type": "markdown",
   "metadata": {
    "colab_type": "text",
    "id": "litMm-MjSEv_"
   },
   "source": [
    "<br><h3>Consistente?</h3>\n",
    "\n",
    "<p>Possui dulicatas?<p>"
   ]
  },
  {
   "cell_type": "code",
   "execution_count": null,
   "metadata": {
    "colab": {
     "base_uri": "https://localhost:8080/",
     "height": 34
    },
    "colab_type": "code",
    "id": "-APWzGztTi-2",
    "outputId": "a58f8cbe-f248-4439-8455-d813ed76c716"
   },
   "outputs": [],
   "source": [
    "matriculas[['codigo_disciplina','id_discente','periodo', 'ano','resultado_disciplina','media_final','numero_faltas', 'id_matricula_disciplina']].duplicated().any()"
   ]
  },
  {
   "cell_type": "markdown",
   "metadata": {
    "colab_type": "text",
    "id": "FiXQr2oBU12i"
   },
   "source": [
    "<br><p>Possui chave?</p>\n",
    "<p>Sim, a coluna id_matricula_disciplina</p><br>\n"
   ]
  },
  {
   "cell_type": "markdown",
   "metadata": {
    "colab_type": "text",
    "id": "dGFxAFKcSK6w"
   },
   "source": [
    "<br>\n",
    "\n",
    "---\n",
    "\n",
    "<br>\n",
    "\n",
    "<h2> Cursos"
   ]
  },
  {
   "cell_type": "code",
   "execution_count": null,
   "metadata": {
    "colab": {
     "base_uri": "https://localhost:8080/",
     "height": 241
    },
    "colab_type": "code",
    "id": "7PJy2EmivXDt",
    "outputId": "922a26e4-8d97-4f8a-ed93-f94bfdbcbda0"
   },
   "outputs": [],
   "source": [
    "cursos = pd.read_csv(\"cursos.csv\")\n",
    "cursos = cursos.drop(\"Tipo de Oferta da Disciplina\",1)\n",
    "cursos = cursos.drop(\"Portaria Reconhecimento\",1)\n",
    "cursos = cursos.drop(\"DOU\",1)\n",
    "cursos = cursos.drop(\"Data Cadastro\",1)\n",
    "cursos = cursos.drop(\"Grau Acadêmico\",1)\n",
    "cursos = cursos.drop(\"Código INEP\",1)\n",
    "cursos = cursos.drop(20) #Retirando coluna que repetida\n",
    "cursos = cursos.drop(\"Município\",1)\n",
    "print(\"Numero de de cursos: \" + str(len(cursos)))\n",
    "print(\"Tem duplicata usando Cursos e Modalidade Educação como chave? \" + str((cursos[[\"Curso\",\"Modalidade Educação\"]]).duplicated().any()))\n",
    "cursos.head()"
   ]
  },
  {
   "cell_type": "code",
   "execution_count": null,
   "metadata": {
    "colab": {
     "base_uri": "https://localhost:8080/",
     "height": 52
    },
    "colab_type": "code",
    "id": "LecZi5dBT8mc",
    "outputId": "082d491b-446e-4784-c1d8-d1a230e47708"
   },
   "outputs": [],
   "source": [
    "#Removendo as duplicatas\n",
    "cursos.drop_duplicates(subset =[\"Curso\",\"Modalidade Educação\"],keep = 'first', inplace = True)\n",
    "print(\"Tem duplicata usando Cursos e Modalidade Educação como chave? \" + str((cursos[[\"Curso\",\"Modalidade Educação\"]]).duplicated().any()))\n",
    "print(\"Numerode de cursos: \" + str(len(cursos)))"
   ]
  },
  {
   "cell_type": "markdown",
   "metadata": {
    "colab_type": "text",
    "id": "BWyxtIItMSb0"
   },
   "source": [
    "O objetivo de nao haver duplicatas em cursos em relacao ao nome do curso e a modalidade de educação é porque dessa forma podemos fazer um mapeamento na tabela alunos para o ID de cada curso. Dessa forma, fazermos isso para deixar as tabelas na forma normal e evitar redundancias. "
   ]
  },
  {
   "cell_type": "markdown",
   "metadata": {
    "colab_type": "text",
    "id": "Hb1Lst_ENHpL"
   },
   "source": [
    "<br>\n",
    "\n",
    "---\n",
    "\n",
    "<br>\n",
    "\n",
    "<h2> Docentes"
   ]
  },
  {
   "cell_type": "code",
   "execution_count": null,
   "metadata": {
    "colab": {
     "base_uri": "https://localhost:8080/",
     "height": 224
    },
    "colab_type": "code",
    "id": "EmfuWtYwvXHe",
    "outputId": "c1559206-5ec5-404a-8e32-d013b795b4d7"
   },
   "outputs": [],
   "source": [
    "docentes = pd.read_csv(\"docentes.csv\")\n",
    "docentes = docentes.drop('categoria',1)\n",
    "docentes = docentes.drop('denominacao',1)\n",
    "docentes = docentes.drop('unidade',1)\n",
    "print(len(docentes))\n",
    "docentes.head() "
   ]
  },
  {
   "cell_type": "code",
   "execution_count": null,
   "metadata": {
    "colab": {
     "base_uri": "https://localhost:8080/",
     "height": 52
    },
    "colab_type": "code",
    "id": "GOdNDixBvXKV",
    "outputId": "7b9e81b8-2a18-447f-f615-19c6235ef67d"
   },
   "outputs": [],
   "source": [
    "print(\"Tamanho de docentes: \" + str(len(docentes)))\n",
    "print(\"Tamanho de docentes sem repetir nomes: \" + str(len(docentes.groupby([\"nome\"]).count())))\n",
    "\n",
    "# Sabemos que nome não é uma chave primaria muito boa, contudo, como nao temos as informacoes necessarias nas outras tabelas em que um docente aparece, nao conseguimos trocar a chave primaria para uma chave unica, por exemplo, uma numerica."
   ]
  },
  {
   "cell_type": "markdown",
   "metadata": {
    "colab_type": "text",
    "id": "0hl3O0r174a1"
   },
   "source": [
    "<br>\n",
    "\n",
    "---\n",
    "\n",
    "<br>\n",
    "\n",
    "<h2> Alunos"
   ]
  },
  {
   "cell_type": "code",
   "execution_count": null,
   "metadata": {
    "colab": {
     "base_uri": "https://localhost:8080/",
     "height": 195
    },
    "colab_type": "code",
    "id": "VVo8DEMjWpS3",
    "outputId": "72f94074-e373-41d0-a378-dd077a3e9023"
   },
   "outputs": [],
   "source": [
    "alunos = pd.read_csv(\"alunos.csv\")\n",
    "alunos.groupby('estado').count()"
   ]
  },
  {
   "cell_type": "code",
   "execution_count": null,
   "metadata": {
    "colab": {
     "base_uri": "https://localhost:8080/",
     "height": 202
    },
    "colab_type": "code",
    "id": "Q-BiQEXXW5i8",
    "outputId": "41000af3-7b8d-4fb5-ebb6-551bcaf9a9b6"
   },
   "outputs": [],
   "source": [
    "#tem q tirar os alunos do para\n",
    "#todos eles tem o curso bugado: SAÚDE DA FAMÍLIA - 2017.2\n",
    "((alunos[alunos['estado'] == 'Pará']).groupby(\"curso\").count()).head()\n",
    "\n",
    "#Observe que todos os alunos do Pará fazem o emso curso. Este curso não esta na tabela de cursos."
   ]
  },
  {
   "cell_type": "code",
   "execution_count": null,
   "metadata": {
    "colab": {
     "base_uri": "https://localhost:8080/",
     "height": 399
    },
    "colab_type": "code",
    "id": "xw8oqlKcX7oF",
    "outputId": "ee2e74b3-42b6-4080-8b8d-0d1aaa80fefe"
   },
   "outputs": [],
   "source": [
    "#Todos os cursos que sao feitos por esses alunos -> Muitos deles são cursos antigos (de antes de 2018) que não estao \n",
    "#em nossa tabela de cursos, uma vez que temos somente informações sobre os cursos de 2018\n",
    "print(\"numero de cursos: \" + str(len(alunos.groupby('curso').count().index)))\n",
    "alunos.groupby('curso').count().index"
   ]
  },
  {
   "cell_type": "code",
   "execution_count": null,
   "metadata": {
    "colab": {},
    "colab_type": "code",
    "id": "RpsVtby1xvkY"
   },
   "outputs": [],
   "source": [
    "alunos = pd.read_csv(\"alunos.csv\")\n",
    "discentes = pd.read_csv(\"alunos.csv\")\n",
    "\n",
    "discentes = discentes.drop('polo',1)\n",
    "discentes = discentes.drop('prazo_conclusao',1)\n",
    "discentes = discentes.drop('periodo_ingresso',1)\n",
    "discentes = discentes.drop('data_colacao_grau',1)\n",
    "discentes = discentes.drop('nivel',1)\n",
    "discentes = discentes.drop('estado',1)"
   ]
  },
  {
   "cell_type": "code",
   "execution_count": null,
   "metadata": {
    "colab": {},
    "colab_type": "code",
    "id": "RJMdL4GCx1g8"
   },
   "outputs": [],
   "source": [
    "curso_id = []\n",
    "for i in range (len(alunos)):\n",
    "  match = False\n",
    "  for j in range (len(cursos)):\n",
    "    if alunos[\"curso\"].iloc[i] == cursos[\"Curso\"].iloc[j] and alunos[\"modalidade\"].iloc[i] == cursos[\"Modalidade Educação\"].iloc[j]:\n",
    "      id = cursos[\"ID\"].iloc[j]\n",
    "      curso_id.append(id)\n",
    "      match = True\n",
    "  if not(match):\n",
    "    discentes = discentes.drop(alunos.index[i])"
   ]
  },
  {
   "cell_type": "code",
   "execution_count": null,
   "metadata": {
    "colab": {},
    "colab_type": "code",
    "id": "9jAn4fG8x5AR"
   },
   "outputs": [],
   "source": [
    "discentes[\"id_curso\"] = curso_id"
   ]
  },
  {
   "cell_type": "code",
   "execution_count": null,
   "metadata": {
    "colab": {},
    "colab_type": "code",
    "id": "FAFvCbGSx7Hc"
   },
   "outputs": [],
   "source": [
    "discentes = discentes.drop('curso',1)\n",
    "discentes = discentes.drop('modalidade',1)"
   ]
  },
  {
   "cell_type": "code",
   "execution_count": null,
   "metadata": {
    "colab": {
     "base_uri": "https://localhost:8080/",
     "height": 313
    },
    "colab_type": "code",
    "id": "P5kShcP_yUnV",
    "outputId": "13a82683-8cf0-48d0-981f-441ce3f01a08"
   },
   "outputs": [],
   "source": [
    "discentes.head()"
   ]
  },
  {
   "cell_type": "markdown",
   "metadata": {
    "colab_type": "text",
    "id": "kdr23aUQNtDC"
   },
   "source": [
    "<br>\n",
    "<br>\n",
    "\n",
    "---\n",
    "\n",
    "<br>\n",
    "\n",
    "<h1> Criando o banco de dados</h1>\n",
    "\n",
    "**'df' deve ser usada como variavel temporaria**"
   ]
  },
  {
   "cell_type": "code",
   "execution_count": null,
   "metadata": {
    "colab": {
     "base_uri": "https://localhost:8080/",
     "height": 52
    },
    "colab_type": "code",
    "id": "s9TqUNYUJjz0",
    "outputId": "f4cce369-2eab-4cb4-9ac3-2c792bd1c4b2"
   },
   "outputs": [],
   "source": [
    "!rm unilab.sqlite\n",
    "!ls"
   ]
  },
  {
   "cell_type": "code",
   "execution_count": null,
   "metadata": {
    "colab": {
     "base_uri": "https://localhost:8080/",
     "height": 52
    },
    "colab_type": "code",
    "id": "zUyAyp9EvXPz",
    "outputId": "70afe1e6-9a4c-44be-8cc2-a33a3ef5c9b7"
   },
   "outputs": [],
   "source": [
    "#criando e conectando banco\n",
    "conn = sqlite3.connect(\"unilab.sqlite\") #se o arquivo nao existir, um novo e gerado\n",
    "cursor = conn.cursor()\n",
    "conn.execute(\"PRAGMA foreign_keys = 1\") #garante que cada foreign key existe na tabela referenciada, se nao existir a insercao da erro\n",
    "!ls"
   ]
  },
  {
   "cell_type": "markdown",
   "metadata": {
    "colab_type": "text",
    "id": "8CV5VVuZL5J6"
   },
   "source": [
    "---\n",
    "\n",
    "<br>\n",
    "\n",
    "<h2>Criando tabela Unidades no bando de dados "
   ]
  },
  {
   "cell_type": "code",
   "execution_count": null,
   "metadata": {
    "colab": {
     "base_uri": "https://localhost:8080/",
     "height": 34
    },
    "colab_type": "code",
    "id": "x6ZCv2H5sD91",
    "outputId": "62c8fe5e-1024-42bf-a4a1-afdcd2ec2b51"
   },
   "outputs": [],
   "source": [
    "#criando tabela UNIDADE\n",
    "cursor.execute('''CREATE TABLE UNIDADE\n",
    "         (sigla TEXT PRIMARY KEY NOT NULL,\n",
    "         unidade TEXT NOT NULL);''')"
   ]
  },
  {
   "cell_type": "code",
   "execution_count": null,
   "metadata": {
    "colab": {},
    "colab_type": "code",
    "id": "TfgyVX6bsGP-"
   },
   "outputs": [],
   "source": [
    "#inserindo dados na tabela unidade\n",
    "df = pd.read_csv('docentes.csv')\n",
    "df = df[['sigla', 'unidade']].drop_duplicates() #tuplas tem de ser unicas\n",
    "df.to_sql('UNIDADE', conn, if_exists='append', index=False)\n",
    "unidades_sql = df.copy()"
   ]
  },
  {
   "cell_type": "code",
   "execution_count": null,
   "metadata": {
    "colab": {
     "base_uri": "https://localhost:8080/",
     "height": 332
    },
    "colab_type": "code",
    "id": "H1NHxMY7JOQ5",
    "outputId": "c4451f2d-b821-40b6-a39d-ab2f4356aba8"
   },
   "outputs": [],
   "source": [
    "unidades_sql"
   ]
  },
  {
   "cell_type": "markdown",
   "metadata": {
    "colab_type": "text",
    "id": "5EaqTHU6MHej"
   },
   "source": [
    "---\n",
    "\n",
    "<br>\n",
    "\n",
    "<h2> Criando tabela Docente no banco de dados"
   ]
  },
  {
   "cell_type": "code",
   "execution_count": null,
   "metadata": {
    "colab": {
     "base_uri": "https://localhost:8080/",
     "height": 34
    },
    "colab_type": "code",
    "id": "NPRL-4G-sSrJ",
    "outputId": "e1ab13c3-f85a-490b-a177-492b2ba106ad"
   },
   "outputs": [],
   "source": [
    "#criando tabela DOCENTE\n",
    "cursor.execute('''CREATE TABLE DOCENTE\n",
    "         (nome TEXT NOT NULL,\n",
    "         situacao TEXT NOT NULL,\n",
    "         sigla TEXT NOT NULL,\n",
    "         PRIMARY KEY (nome, sigla),\n",
    "         FOREIGN KEY (sigla)\n",
    "          REFERENCES UNIDADE(sigla));''')\n",
    "\n",
    "#coloquei sigla e nome como chave primaria, aparentemente tem professores com nomes iguais em institutos diferentes"
   ]
  },
  {
   "cell_type": "code",
   "execution_count": null,
   "metadata": {
    "colab": {},
    "colab_type": "code",
    "id": "RkYIIzb5vXSZ"
   },
   "outputs": [],
   "source": [
    "#Inserindo dados na tabela DOCENTE\n",
    "df = pd.read_csv('docentes.csv')\n",
    "df = df[['nome', 'sigla', 'situação']].drop_duplicates()\n",
    "df.columns = ['nome', 'sigla', 'situacao'] #troquei os nomes do dataframe pra ficar igual da tabela\n",
    "df.to_sql('DOCENTE', conn, if_exists='append', index=False) #if_exists=append garante que vai inserir na tabela existente\n",
    "                                                             #index=False evita que uma coluna adicional seja criada "
   ]
  },
  {
   "cell_type": "code",
   "execution_count": null,
   "metadata": {
    "colab": {
     "base_uri": "https://localhost:8080/",
     "height": 424
    },
    "colab_type": "code",
    "id": "l1e1GbdgLUj0",
    "outputId": "9ec44234-147c-4b8b-ef0d-320640f8e977"
   },
   "outputs": [],
   "source": [
    "docentes_sql = df.copy()\n",
    "docentes_sql"
   ]
  },
  {
   "cell_type": "markdown",
   "metadata": {
    "colab_type": "text",
    "id": "s9k7x69JMQ3k"
   },
   "source": [
    "<h3>Consulta de teste"
   ]
  },
  {
   "cell_type": "code",
   "execution_count": null,
   "metadata": {
    "colab": {
     "base_uri": "https://localhost:8080/",
     "height": 1000
    },
    "colab_type": "code",
    "id": "ibxkQUCAvXU_",
    "outputId": "0e0d115c-54af-4bdd-89cc-7cf429e17bb5"
   },
   "outputs": [],
   "source": [
    "#query de exemplo com os dados acima\n",
    "df = pd.read_sql(\"SELECT * FROM DOCENTE WHERE sigla = 'ICS'\", conn)\n",
    "df"
   ]
  },
  {
   "cell_type": "markdown",
   "metadata": {
    "colab_type": "text",
    "id": "KPJ8clFRM0fU"
   },
   "source": [
    "---\n",
    "\n",
    "<br>\n",
    "\n",
    "<h2> Criando tabela Cursos no banco de dados"
   ]
  },
  {
   "cell_type": "code",
   "execution_count": null,
   "metadata": {
    "colab": {
     "base_uri": "https://localhost:8080/",
     "height": 34
    },
    "colab_type": "code",
    "id": "3ZWOMrlkOfH6",
    "outputId": "706244e5-958f-4de8-f402-8ee4b1ad0b2a"
   },
   "outputs": [],
   "source": [
    "#criando tabela CURSOS\n",
    "\n",
    "cursor.execute('''CREATE TABLE CURSOS \n",
    "         (id_curso INTEGER PRIMARY KEY NOT NULL, \n",
    "         nome_curso TEXT NOT NULL, \n",
    "         modalidade TEXT NOT NULL, \n",
    "         area_conhecimento TEXT NOT NULL); ''')\n",
    "\n",
    "#coloquei sigla e nome como chave primaria, aparentemente tem professores com nomes iguais em institutos diferentes"
   ]
  },
  {
   "cell_type": "code",
   "execution_count": null,
   "metadata": {
    "colab": {
     "base_uri": "https://localhost:8080/",
     "height": 52
    },
    "colab_type": "code",
    "id": "bjN06cXdOu76",
    "outputId": "22deb88c-e88e-4122-ca27-6152afdda424"
   },
   "outputs": [],
   "source": [
    "df = cursos.copy()\n",
    "if('Município' in df.columns):\n",
    "  df = df.drop('Município',1)\n",
    "print(df.columns)\n",
    "df.columns = ['id_curso', 'nome_curso', 'modalidade', 'area_conhecimento'] #troquei os nomes do dataframe pra ficar igual da tabela\n",
    "print(df.columns)"
   ]
  },
  {
   "cell_type": "code",
   "execution_count": null,
   "metadata": {
    "colab": {},
    "colab_type": "code",
    "id": "e3N9ARbOvXXb"
   },
   "outputs": [],
   "source": [
    "#Inserindo dados na tabela CURSOS\n",
    "df.to_sql('CURSOS', conn, if_exists='append', index=False) #if_exists=append garante que vai inserir na tabela existente\n",
    "                                                             #index=False evita que uma coluna adicional seja criada "
   ]
  },
  {
   "cell_type": "markdown",
   "metadata": {
    "colab_type": "text",
    "id": "1kyVWR7XgXP6"
   },
   "source": [
    "<h3> Consulta Teste"
   ]
  },
  {
   "cell_type": "code",
   "execution_count": null,
   "metadata": {
    "colab": {
     "base_uri": "https://localhost:8080/",
     "height": 143
    },
    "colab_type": "code",
    "id": "101MMkn-NAhR",
    "outputId": "2bff121f-2250-4f14-c77d-403714e7d130"
   },
   "outputs": [],
   "source": [
    "df = pd.read_sql(\"SELECT * FROM CURSO WHERE area_conhecimento = 'Ciências Sociais Aplicadas'\", conn)\n",
    "df"
   ]
  },
  {
   "cell_type": "code",
   "execution_count": null,
   "metadata": {
    "colab": {},
    "colab_type": "code",
    "id": "_isOzBfzQlT8"
   },
   "outputs": [],
   "source": []
  },
  {
   "cell_type": "markdown",
   "metadata": {
    "colab_type": "text",
    "id": "WMUalDhyAdSh"
   },
   "source": [
    "---\n",
    "\n",
    "<br>\n",
    "\n",
    "<h1>Consultas</h1>\n",
    "<h2>Consultas usando Projeção e seleção </h2>\n",
    "<br>\n",
    "<h3>Consulta 1"
   ]
  },
  {
   "cell_type": "code",
   "execution_count": null,
   "metadata": {
    "colab": {},
    "colab_type": "code",
    "id": "AlQ1lCXaBnfW"
   },
   "outputs": [],
   "source": []
  },
  {
   "cell_type": "markdown",
   "metadata": {
    "colab_type": "text",
    "id": "DX8yHHHFBvJF"
   },
   "source": [
    "<h3>Consulta 2"
   ]
  },
  {
   "cell_type": "code",
   "execution_count": null,
   "metadata": {
    "colab": {},
    "colab_type": "code",
    "id": "JETBMboaBoZt"
   },
   "outputs": [],
   "source": []
  },
  {
   "cell_type": "markdown",
   "metadata": {
    "colab_type": "text",
    "id": "GVrtgZh4Bn33"
   },
   "source": [
    "---\n",
    "\n",
    "<br>\n",
    "\n",
    "<h2>Consultas envolvendo junção de duas relações \n",
    "<br>\n",
    "<h3>Consulta 1 "
   ]
  },
  {
   "cell_type": "code",
   "execution_count": null,
   "metadata": {
    "colab": {},
    "colab_type": "code",
    "id": "-4mupQOgCGNN"
   },
   "outputs": [],
   "source": []
  },
  {
   "cell_type": "markdown",
   "metadata": {
    "colab_type": "text",
    "id": "6acCd2FpCGYN"
   },
   "source": [
    "<h3>Consulta 2"
   ]
  },
  {
   "cell_type": "code",
   "execution_count": null,
   "metadata": {
    "colab": {},
    "colab_type": "code",
    "id": "2XYnIqRUCGkM"
   },
   "outputs": [],
   "source": []
  },
  {
   "cell_type": "markdown",
   "metadata": {
    "colab_type": "text",
    "id": "xaUV_1jpCtbn"
   },
   "source": [
    "<h3>Consulta 3"
   ]
  },
  {
   "cell_type": "code",
   "execution_count": null,
   "metadata": {
    "colab": {},
    "colab_type": "code",
    "id": "TK3dguXMCtik"
   },
   "outputs": [],
   "source": []
  },
  {
   "cell_type": "markdown",
   "metadata": {
    "colab_type": "text",
    "id": "ufPozVQqCGvN"
   },
   "source": [
    "---\n",
    "\n",
    "<br>\n",
    "\n",
    "<h2>Consultas envolvendo junção de três ou mais relações\n",
    "\n",
    "<br>\n",
    "\n",
    "<h3>Consulta 1"
   ]
  },
  {
   "cell_type": "code",
   "execution_count": null,
   "metadata": {
    "colab": {},
    "colab_type": "code",
    "id": "EhqiyHo0Cmmu"
   },
   "outputs": [],
   "source": []
  },
  {
   "cell_type": "markdown",
   "metadata": {
    "colab_type": "text",
    "id": "1NhIp6_ICmvw"
   },
   "source": [
    "<h3>Consulta 2"
   ]
  },
  {
   "cell_type": "code",
   "execution_count": null,
   "metadata": {
    "colab": {},
    "colab_type": "code",
    "id": "PldH6fW3Cm4n"
   },
   "outputs": [],
   "source": []
  },
  {
   "cell_type": "markdown",
   "metadata": {
    "colab_type": "text",
    "id": "ElOZZbMjCnBV"
   },
   "source": [
    "<h3>Consulta 3"
   ]
  },
  {
   "cell_type": "code",
   "execution_count": null,
   "metadata": {
    "colab": {},
    "colab_type": "code",
    "id": "e5tWXqqpCnLn"
   },
   "outputs": [],
   "source": []
  },
  {
   "cell_type": "markdown",
   "metadata": {
    "colab_type": "text",
    "id": "Ncih_F-9CnY2"
   },
   "source": [
    "---\n",
    "\n",
    "<br>\n",
    "\n",
    "<h2>Consultas envolvendo agregação sobre junção de duas ou mais relações\n",
    "\n",
    "<br>\n",
    "\n",
    "<h3>Consulta 1\n"
   ]
  },
  {
   "cell_type": "code",
   "execution_count": null,
   "metadata": {
    "colab": {},
    "colab_type": "code",
    "id": "Rg67zTahDC8-"
   },
   "outputs": [],
   "source": []
  },
  {
   "cell_type": "markdown",
   "metadata": {
    "colab_type": "text",
    "id": "LW1Fn6m9DDSl"
   },
   "source": [
    "<h3>Consulta 2"
   ]
  },
  {
   "cell_type": "code",
   "execution_count": null,
   "metadata": {
    "colab": {},
    "colab_type": "code",
    "id": "doaCqHswDDaP"
   },
   "outputs": [],
   "source": []
  },
  {
   "cell_type": "markdown",
   "metadata": {
    "colab_type": "text",
    "id": "J0dQoT5-Di7M"
   },
   "source": [
    "---\n",
    "\n",
    "<br>\n",
    "\n",
    "<h1>Autoavaliação dos membros</h1>\n",
    "\n",
    "\n",
    "\n",
    "\n",
    "\n",
    "\n"
   ]
  },
  {
   "cell_type": "code",
   "execution_count": null,
   "metadata": {
    "colab": {},
    "colab_type": "code",
    "id": "IY10ZOIcDmvZ"
   },
   "outputs": [],
   "source": []
  },
  {
   "cell_type": "code",
   "execution_count": null,
   "metadata": {
    "colab": {},
    "colab_type": "code",
    "id": "6tJfls_ODm0o"
   },
   "outputs": [],
   "source": []
  },
  {
   "cell_type": "code",
   "execution_count": null,
   "metadata": {
    "colab": {},
    "colab_type": "code",
    "id": "J0Cxm7cTDm3S"
   },
   "outputs": [],
   "source": []
  },
  {
   "cell_type": "code",
   "execution_count": null,
   "metadata": {
    "colab": {},
    "colab_type": "code",
    "id": "L_nnLnkaDm53"
   },
   "outputs": [],
   "source": []
  },
  {
   "cell_type": "markdown",
   "metadata": {
    "colab_type": "text",
    "id": "qI8GTyuJAkL5"
   },
   "source": [
    "# Divisão quanto ao tratamento de dados:\n",
    "Luiz: Docentes e disciplinas\n",
    "\n",
    "Lucas: alunos\n",
    "\n",
    "Tales: matriculas\n",
    "\n",
    "Pedro: Cursos\n",
    "\n",
    "<br>\n",
    "<br>\n",
    "\n",
    "Obs1.: Os nomes acima seguem o padrao do dataframe que pode ser vista abaixo\n",
    "\n",
    "Obs2.: Mantenham o padrão dos nomes\n",
    "\n",
    "Obs3.: Esse notebook será o entregavel final, então a medida que foram fazendo as coisas vao documentando para ficar mais facil\n",
    "\n",
    "Obs4.: Se nao for possivel alterar esse notebook no original, salvem ele e trabalhem separadamente e depois a gente junta tudo"
   ]
  }
 ],
 "metadata": {
  "colab": {
   "collapsed_sections": [],
   "name": "Untitled3.ipynb",
   "provenance": []
  },
  "kernelspec": {
   "display_name": "Python 3",
   "language": "python",
   "name": "python3"
  },
  "language_info": {
   "codemirror_mode": {
    "name": "ipython",
    "version": 3
   },
   "file_extension": ".py",
   "mimetype": "text/x-python",
   "name": "python",
   "nbconvert_exporter": "python",
   "pygments_lexer": "ipython3",
   "version": "3.7.2"
  }
 },
 "nbformat": 4,
 "nbformat_minor": 1
}
