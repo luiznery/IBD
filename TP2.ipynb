{
  "nbformat": 4,
  "nbformat_minor": 0,
  "metadata": {
    "colab": {
      "name": "Untitled3.ipynb",
      "provenance": [],
      "collapsed_sections": []
    },
    "kernelspec": {
      "name": "python3",
      "display_name": "Python 3"
    }
  },
  "cells": [
    {
      "cell_type": "markdown",
      "metadata": {
        "id": "QjHcmBce-zEO",
        "colab_type": "text"
      },
      "source": [
        "<h1> UNILAB 2018 - Discentes, docentes, disciplinas e cursos \n"
      ]
    },
    {
      "cell_type": "markdown",
      "metadata": {
        "id": "lHaRXbvr_ZD1",
        "colab_type": "text"
      },
      "source": [
        "Membros:\n",
        "*   Lucas Brant - \n",
        "*   Luiz Felipe Nery - 2018054770 \n",
        "*   Pedro Wildemberg - \n",
        "*   Tales Panoutsos - \n",
        "\n",
        "<br>\n",
        "\n",
        "---\n",
        "\n"
      ]
    },
    {
      "cell_type": "markdown",
      "metadata": {
        "id": "5o66NKX1_6eF",
        "colab_type": "text"
      },
      "source": [
        "<h1>  Descrição dos dados</h1>\n",
        "<p>Bla bla</p>\n",
        "<br>\n",
        "\n"
      ]
    },
    {
      "cell_type": "markdown",
      "metadata": {
        "id": "ZA1LEYswAD80",
        "colab_type": "text"
      },
      "source": [
        "<h1>Diagrama ER</h1>"
      ]
    },
    {
      "cell_type": "markdown",
      "metadata": {
        "id": "ufW93zBbrCVW",
        "colab_type": "text"
      },
      "source": [
        "<h1>Diagrama Relacional</h1>\n",
        "<h2> Forma Normalizada\n",
        "\n",
        "* **cursos**(id_curso, nome_curso, nivel, modalidade, area_conhecimento)\n",
        "\n",
        "* **docentes**(id_docente, nome_docente, sigla_unidade, situacao)\n",
        "\n",
        "  docente.sigla_unidade -> unidade.sigla\n",
        "\n",
        "* **unidades**(sigla, nome_unidade)\n",
        "\n",
        "* **discentes**(id_discente, num_matricula, ano_ingresso, periodo_atual, sexo, idade, raca, pais, forma_ingresso, discente_situacao, beneficiado_auxilio, id_curso)\n",
        "\n",
        "* **matriculas**(id_matricula_disciplina, resultado_disciplina, ano, periodo, id_disciplina, id_discente, media_final, numero_faltas)\n",
        "\n",
        "  matricula.id_discente -> discente.id_discente\n",
        "\n",
        "  matricula.id_docente -> docente.id_docente\n",
        "\n",
        "  matricula.id_disciplina -> disciplina.id_disciplina\n",
        "\n",
        "* **disciplinas**(id_disciplina, nome_disciplina, carga_horaria, id_docente)\n",
        "\n",
        "  disciplinas.id_docente -> docentes.id_docentes\n",
        "\n",
        "\n",
        "<br>\n",
        "\n",
        "---\n"
      ]
    },
    {
      "cell_type": "markdown",
      "metadata": {
        "id": "86-oDPq6_3v9",
        "colab_type": "text"
      },
      "source": [
        "<h1>Baixando os dados\n",
        "\n",
        "<br>\n",
        "<p>Todos os dados são referentes ao ano de 2018"
      ]
    },
    {
      "cell_type": "code",
      "metadata": {
        "id": "_fNkTvRLrZ9V",
        "colab_type": "code",
        "colab": {
          "base_uri": "https://localhost:8080/",
          "height": 781
        },
        "outputId": "a09bd678-2998-42e0-c5bd-11e372f4dea4"
      },
      "source": [
        "#matriculas\n",
        "#Modelo:     !wget  -O .csv\n",
        "!wget http://dadosabertos.unilab.edu.br:8001/csv/matriculas_2018.csv -O matriculas_2018.csv\n",
        "!wget http://dadosabertos.unilab.edu.br:8001/csv/lista_discentes.csv -O alunos.csv\n",
        "!wget http://dadosabertos.unilab.edu.br:8001/csv/cursos_graduacao.csv -O cursos.csv\n",
        "!wget http://dadosabertos.unilab.edu.br:8001/csv/docentes.csv -O docentes.csv\n"
      ],
      "execution_count": 216,
      "outputs": [
        {
          "output_type": "stream",
          "text": [
            "--2019-11-09 00:50:17--  http://dadosabertos.unilab.edu.br:8001/csv/matriculas_2018.csv\n",
            "Resolving dadosabertos.unilab.edu.br (dadosabertos.unilab.edu.br)... 200.129.19.44\n",
            "Connecting to dadosabertos.unilab.edu.br (dadosabertos.unilab.edu.br)|200.129.19.44|:8001... connected.\n",
            "HTTP request sent, awaiting response... 200 OK\n",
            "Length: 24083994 (23M) [application/octet-stream]\n",
            "Saving to: ‘matriculas_2018.csv’\n",
            "\n",
            "matriculas_2018.csv 100%[===================>]  22.97M  6.65MB/s    in 3.8s    \n",
            "\n",
            "2019-11-09 00:50:21 (6.10 MB/s) - ‘matriculas_2018.csv’ saved [24083994/24083994]\n",
            "\n",
            "--2019-11-09 00:50:22--  http://dadosabertos.unilab.edu.br:8001/csv/lista_discentes.csv\n",
            "Resolving dadosabertos.unilab.edu.br (dadosabertos.unilab.edu.br)... 200.129.19.44\n",
            "Connecting to dadosabertos.unilab.edu.br (dadosabertos.unilab.edu.br)|200.129.19.44|:8001... connected.\n",
            "HTTP request sent, awaiting response... 200 OK\n",
            "Length: 1181703 (1.1M) [application/octet-stream]\n",
            "Saving to: ‘alunos.csv’\n",
            "\n",
            "alunos.csv          100%[===================>]   1.13M  1.15MB/s    in 1.0s    \n",
            "\n",
            "2019-11-09 00:50:24 (1.15 MB/s) - ‘alunos.csv’ saved [1181703/1181703]\n",
            "\n",
            "--2019-11-09 00:50:24--  http://dadosabertos.unilab.edu.br:8001/csv/cursos_graduacao.csv\n",
            "Resolving dadosabertos.unilab.edu.br (dadosabertos.unilab.edu.br)... 200.129.19.44\n",
            "Connecting to dadosabertos.unilab.edu.br (dadosabertos.unilab.edu.br)|200.129.19.44|:8001... connected.\n",
            "HTTP request sent, awaiting response... 200 OK\n",
            "Length: 7594 (7.4K) [application/octet-stream]\n",
            "Saving to: ‘cursos.csv’\n",
            "\n",
            "cursos.csv          100%[===================>]   7.42K  --.-KB/s    in 0s      \n",
            "\n",
            "2019-11-09 00:50:25 (709 MB/s) - ‘cursos.csv’ saved [7594/7594]\n",
            "\n",
            "--2019-11-09 00:50:26--  http://dadosabertos.unilab.edu.br:8001/csv/docentes.csv\n",
            "Resolving dadosabertos.unilab.edu.br (dadosabertos.unilab.edu.br)... 200.129.19.44\n",
            "Connecting to dadosabertos.unilab.edu.br (dadosabertos.unilab.edu.br)|200.129.19.44|:8001... connected.\n",
            "HTTP request sent, awaiting response... 200 OK\n",
            "Length: 49146 (48K) [application/octet-stream]\n",
            "Saving to: ‘docentes.csv’\n",
            "\n",
            "docentes.csv        100%[===================>]  47.99K   149KB/s    in 0.3s    \n",
            "\n",
            "2019-11-09 00:50:27 (149 KB/s) - ‘docentes.csv’ saved [49146/49146]\n",
            "\n"
          ],
          "name": "stdout"
        }
      ]
    },
    {
      "cell_type": "code",
      "metadata": {
        "id": "NQWPK4qt-_Av",
        "colab_type": "code",
        "colab": {
          "base_uri": "https://localhost:8080/",
          "height": 225
        },
        "outputId": "6be7b410-2ecf-4680-c158-24bc1cac0c40"
      },
      "source": [
        "!wget -c http://dadosabertos.unilab.edu.br/api/action/datastore_search?resource_id=89132ea3-318d-44e1-a269-2795ed168ae8&limit=1600 -O disciplinas.json"
      ],
      "execution_count": 217,
      "outputs": [
        {
          "output_type": "stream",
          "text": [
            "/bin/bash: -O: command not found\n",
            "--2019-11-09 00:50:28--  http://dadosabertos.unilab.edu.br/api/action/datastore_search?resource_id=89132ea3-318d-44e1-a269-2795ed168ae8\n",
            "Resolving dadosabertos.unilab.edu.br (dadosabertos.unilab.edu.br)... 200.129.19.44\n",
            "Connecting to dadosabertos.unilab.edu.br (dadosabertos.unilab.edu.br)|200.129.19.44|:80... connected.\n",
            "HTTP request sent, awaiting response... 200 OK\n",
            "Length: 31885 (31K) [application/json]\n",
            "Saving to: ‘datastore_search?resource_id=89132ea3-318d-44e1-a269-2795ed168ae8’\n",
            "\n",
            "\r          datastore   0%[                    ]       0  --.-KB/s               \rdatastore_search?re 100%[===================>]  31.14K   193KB/s    in 0.2s    \n",
            "\n",
            "2019-11-09 00:50:29 (193 KB/s) - ‘datastore_search?resource_id=89132ea3-318d-44e1-a269-2795ed168ae8’ saved [31885/31885]\n",
            "\n"
          ],
          "name": "stdout"
        }
      ]
    },
    {
      "cell_type": "code",
      "metadata": {
        "id": "YydzSLxO_V85",
        "colab_type": "code",
        "colab": {}
      },
      "source": [
        "!mv datastore_search?resource_id=89132ea3-318d-44e1-a269-2795ed168ae8 disciplinas.json"
      ],
      "execution_count": 0,
      "outputs": []
    },
    {
      "cell_type": "code",
      "metadata": {
        "id": "ODSUO8yBtPTV",
        "colab_type": "code",
        "outputId": "976fd164-0039-4de2-9f01-f84e7ad54b2f",
        "colab": {
          "base_uri": "https://localhost:8080/",
          "height": 52
        }
      },
      "source": [
        "#Aquivos baixados (e outros)\n",
        "!ls"
      ],
      "execution_count": 219,
      "outputs": [
        {
          "output_type": "stream",
          "text": [
            "alunos.csv  disciplinas.json  matriculas_2018.csv  unilab.sqlite\n",
            "cursos.csv  docentes.csv      sample_data\n"
          ],
          "name": "stdout"
        }
      ]
    },
    {
      "cell_type": "markdown",
      "metadata": {
        "id": "LX4WWwC9OoF3",
        "colab_type": "text"
      },
      "source": [
        "--- \n",
        "\n",
        "<br>\n",
        "<h1>Adicionando bibliotecas\n"
      ]
    },
    {
      "cell_type": "code",
      "metadata": {
        "id": "daL_NBlHtMx2",
        "colab_type": "code",
        "colab": {}
      },
      "source": [
        "import io\n",
        "import sqlite3\n",
        "import pandas as pd\n",
        "import numpy as np"
      ],
      "execution_count": 0,
      "outputs": []
    },
    {
      "cell_type": "markdown",
      "metadata": {
        "id": "EvnzPT68ODUM",
        "colab_type": "text"
      },
      "source": [
        "<br>\n",
        "\n",
        "---\n",
        "\n",
        "<br>\n",
        "\n",
        "<h1>Editando os dados\n",
        "<br>\n",
        "\n",
        "<br>\n",
        "\n",
        "<h2>Disciplinas"
      ]
    },
    {
      "cell_type": "code",
      "metadata": {
        "id": "NMXoIbWEtPZZ",
        "colab_type": "code",
        "outputId": "0e1b2673-4ce7-487b-a8fa-3b0982d39475",
        "colab": {
          "base_uri": "https://localhost:8080/",
          "height": 381
        }
      },
      "source": [
        "#json cru, obtido da requisicao\n",
        "disciplinas = pd.read_json(\"disciplinas.json\")\n",
        "\n",
        "#Selecionamos somente os resultados na coluna \"result\" linha \"records\"\n",
        "disciplinas = pd.DataFrame.from_dict(disciplinas[\"result\"][\"records\"], orient='columns')\n",
        "disciplinas = disciplinas.drop(\"\",1)\n",
        "\n",
        "disciplinas = disciplinas.drop(\"unidade\",1)\n",
        "disciplinas = disciplinas.drop(\"curso\",1)\n",
        "disciplinas = disciplinas.drop(\"horario\",1)\n",
        "disciplinas = disciplinas.drop(\"vagas\",1)\n",
        "disciplinas = disciplinas.drop(\"_id\",1)\n",
        "disciplinas = disciplinas.drop(\"local\",1)\n",
        "disciplinas = disciplinas.drop(\"id_unidade\",1)\n",
        "\n",
        "#cada disciplina so pode ser dada por um professor\n",
        "disciplinas.drop_duplicates(\"codigo_disciplina\", keep = 'first', inplace = True)\n",
        "\n",
        "print(len(disciplinas))\n",
        "disciplinas.head()"
      ],
      "execution_count": 221,
      "outputs": [
        {
          "output_type": "error",
          "ename": "KeyError",
          "evalue": "ignored",
          "traceback": [
            "\u001b[0;31m---------------------------------------------------------------------------\u001b[0m",
            "\u001b[0;31mKeyError\u001b[0m                                  Traceback (most recent call last)",
            "\u001b[0;32m<ipython-input-221-f8c897a84d42>\u001b[0m in \u001b[0;36m<module>\u001b[0;34m()\u001b[0m\n\u001b[1;32m      3\u001b[0m \u001b[0;31m#Selecionamos somente os resultados na coluna \"result\" linha \"records\"\u001b[0m\u001b[0;34m\u001b[0m\u001b[0;34m\u001b[0m\u001b[0;34m\u001b[0m\u001b[0m\n\u001b[1;32m      4\u001b[0m \u001b[0mdisciplinas\u001b[0m \u001b[0;34m=\u001b[0m \u001b[0mpd\u001b[0m\u001b[0;34m.\u001b[0m\u001b[0mDataFrame\u001b[0m\u001b[0;34m.\u001b[0m\u001b[0mfrom_dict\u001b[0m\u001b[0;34m(\u001b[0m\u001b[0mdisciplinas\u001b[0m\u001b[0;34m[\u001b[0m\u001b[0;34m\"result\"\u001b[0m\u001b[0;34m]\u001b[0m\u001b[0;34m[\u001b[0m\u001b[0;34m\"records\"\u001b[0m\u001b[0;34m]\u001b[0m\u001b[0;34m,\u001b[0m \u001b[0morient\u001b[0m\u001b[0;34m=\u001b[0m\u001b[0;34m'columns'\u001b[0m\u001b[0;34m)\u001b[0m\u001b[0;34m\u001b[0m\u001b[0;34m\u001b[0m\u001b[0m\n\u001b[0;32m----> 5\u001b[0;31m \u001b[0mdisciplinas\u001b[0m \u001b[0;34m=\u001b[0m \u001b[0mdisciplinas\u001b[0m\u001b[0;34m.\u001b[0m\u001b[0mdrop\u001b[0m\u001b[0;34m(\u001b[0m\u001b[0;34m\"\"\u001b[0m\u001b[0;34m,\u001b[0m\u001b[0;36m1\u001b[0m\u001b[0;34m)\u001b[0m\u001b[0;34m\u001b[0m\u001b[0;34m\u001b[0m\u001b[0m\n\u001b[0m\u001b[1;32m      6\u001b[0m \u001b[0;34m\u001b[0m\u001b[0m\n\u001b[1;32m      7\u001b[0m \u001b[0mdisciplinas\u001b[0m \u001b[0;34m=\u001b[0m \u001b[0mdisciplinas\u001b[0m\u001b[0;34m.\u001b[0m\u001b[0mdrop\u001b[0m\u001b[0;34m(\u001b[0m\u001b[0;34m\"unidade\"\u001b[0m\u001b[0;34m,\u001b[0m\u001b[0;36m1\u001b[0m\u001b[0;34m)\u001b[0m\u001b[0;34m\u001b[0m\u001b[0;34m\u001b[0m\u001b[0m\n",
            "\u001b[0;32m/usr/local/lib/python3.6/dist-packages/pandas/core/frame.py\u001b[0m in \u001b[0;36mdrop\u001b[0;34m(self, labels, axis, index, columns, level, inplace, errors)\u001b[0m\n\u001b[1;32m   4115\u001b[0m             \u001b[0mlevel\u001b[0m\u001b[0;34m=\u001b[0m\u001b[0mlevel\u001b[0m\u001b[0;34m,\u001b[0m\u001b[0;34m\u001b[0m\u001b[0;34m\u001b[0m\u001b[0m\n\u001b[1;32m   4116\u001b[0m             \u001b[0minplace\u001b[0m\u001b[0;34m=\u001b[0m\u001b[0minplace\u001b[0m\u001b[0;34m,\u001b[0m\u001b[0;34m\u001b[0m\u001b[0;34m\u001b[0m\u001b[0m\n\u001b[0;32m-> 4117\u001b[0;31m             \u001b[0merrors\u001b[0m\u001b[0;34m=\u001b[0m\u001b[0merrors\u001b[0m\u001b[0;34m,\u001b[0m\u001b[0;34m\u001b[0m\u001b[0;34m\u001b[0m\u001b[0m\n\u001b[0m\u001b[1;32m   4118\u001b[0m         )\n\u001b[1;32m   4119\u001b[0m \u001b[0;34m\u001b[0m\u001b[0m\n",
            "\u001b[0;32m/usr/local/lib/python3.6/dist-packages/pandas/core/generic.py\u001b[0m in \u001b[0;36mdrop\u001b[0;34m(self, labels, axis, index, columns, level, inplace, errors)\u001b[0m\n\u001b[1;32m   3912\u001b[0m         \u001b[0;32mfor\u001b[0m \u001b[0maxis\u001b[0m\u001b[0;34m,\u001b[0m \u001b[0mlabels\u001b[0m \u001b[0;32min\u001b[0m \u001b[0maxes\u001b[0m\u001b[0;34m.\u001b[0m\u001b[0mitems\u001b[0m\u001b[0;34m(\u001b[0m\u001b[0;34m)\u001b[0m\u001b[0;34m:\u001b[0m\u001b[0;34m\u001b[0m\u001b[0;34m\u001b[0m\u001b[0m\n\u001b[1;32m   3913\u001b[0m             \u001b[0;32mif\u001b[0m \u001b[0mlabels\u001b[0m \u001b[0;32mis\u001b[0m \u001b[0;32mnot\u001b[0m \u001b[0;32mNone\u001b[0m\u001b[0;34m:\u001b[0m\u001b[0;34m\u001b[0m\u001b[0;34m\u001b[0m\u001b[0m\n\u001b[0;32m-> 3914\u001b[0;31m                 \u001b[0mobj\u001b[0m \u001b[0;34m=\u001b[0m \u001b[0mobj\u001b[0m\u001b[0;34m.\u001b[0m\u001b[0m_drop_axis\u001b[0m\u001b[0;34m(\u001b[0m\u001b[0mlabels\u001b[0m\u001b[0;34m,\u001b[0m \u001b[0maxis\u001b[0m\u001b[0;34m,\u001b[0m \u001b[0mlevel\u001b[0m\u001b[0;34m=\u001b[0m\u001b[0mlevel\u001b[0m\u001b[0;34m,\u001b[0m \u001b[0merrors\u001b[0m\u001b[0;34m=\u001b[0m\u001b[0merrors\u001b[0m\u001b[0;34m)\u001b[0m\u001b[0;34m\u001b[0m\u001b[0;34m\u001b[0m\u001b[0m\n\u001b[0m\u001b[1;32m   3915\u001b[0m \u001b[0;34m\u001b[0m\u001b[0m\n\u001b[1;32m   3916\u001b[0m         \u001b[0;32mif\u001b[0m \u001b[0minplace\u001b[0m\u001b[0;34m:\u001b[0m\u001b[0;34m\u001b[0m\u001b[0;34m\u001b[0m\u001b[0m\n",
            "\u001b[0;32m/usr/local/lib/python3.6/dist-packages/pandas/core/generic.py\u001b[0m in \u001b[0;36m_drop_axis\u001b[0;34m(self, labels, axis, level, errors)\u001b[0m\n\u001b[1;32m   3944\u001b[0m                 \u001b[0mnew_axis\u001b[0m \u001b[0;34m=\u001b[0m \u001b[0maxis\u001b[0m\u001b[0;34m.\u001b[0m\u001b[0mdrop\u001b[0m\u001b[0;34m(\u001b[0m\u001b[0mlabels\u001b[0m\u001b[0;34m,\u001b[0m \u001b[0mlevel\u001b[0m\u001b[0;34m=\u001b[0m\u001b[0mlevel\u001b[0m\u001b[0;34m,\u001b[0m \u001b[0merrors\u001b[0m\u001b[0;34m=\u001b[0m\u001b[0merrors\u001b[0m\u001b[0;34m)\u001b[0m\u001b[0;34m\u001b[0m\u001b[0;34m\u001b[0m\u001b[0m\n\u001b[1;32m   3945\u001b[0m             \u001b[0;32melse\u001b[0m\u001b[0;34m:\u001b[0m\u001b[0;34m\u001b[0m\u001b[0;34m\u001b[0m\u001b[0m\n\u001b[0;32m-> 3946\u001b[0;31m                 \u001b[0mnew_axis\u001b[0m \u001b[0;34m=\u001b[0m \u001b[0maxis\u001b[0m\u001b[0;34m.\u001b[0m\u001b[0mdrop\u001b[0m\u001b[0;34m(\u001b[0m\u001b[0mlabels\u001b[0m\u001b[0;34m,\u001b[0m \u001b[0merrors\u001b[0m\u001b[0;34m=\u001b[0m\u001b[0merrors\u001b[0m\u001b[0;34m)\u001b[0m\u001b[0;34m\u001b[0m\u001b[0;34m\u001b[0m\u001b[0m\n\u001b[0m\u001b[1;32m   3947\u001b[0m             \u001b[0mresult\u001b[0m \u001b[0;34m=\u001b[0m \u001b[0mself\u001b[0m\u001b[0;34m.\u001b[0m\u001b[0mreindex\u001b[0m\u001b[0;34m(\u001b[0m\u001b[0;34m**\u001b[0m\u001b[0;34m{\u001b[0m\u001b[0maxis_name\u001b[0m\u001b[0;34m:\u001b[0m \u001b[0mnew_axis\u001b[0m\u001b[0;34m}\u001b[0m\u001b[0;34m)\u001b[0m\u001b[0;34m\u001b[0m\u001b[0;34m\u001b[0m\u001b[0m\n\u001b[1;32m   3948\u001b[0m \u001b[0;34m\u001b[0m\u001b[0m\n",
            "\u001b[0;32m/usr/local/lib/python3.6/dist-packages/pandas/core/indexes/base.py\u001b[0m in \u001b[0;36mdrop\u001b[0;34m(self, labels, errors)\u001b[0m\n\u001b[1;32m   5338\u001b[0m         \u001b[0;32mif\u001b[0m \u001b[0mmask\u001b[0m\u001b[0;34m.\u001b[0m\u001b[0many\u001b[0m\u001b[0;34m(\u001b[0m\u001b[0;34m)\u001b[0m\u001b[0;34m:\u001b[0m\u001b[0;34m\u001b[0m\u001b[0;34m\u001b[0m\u001b[0m\n\u001b[1;32m   5339\u001b[0m             \u001b[0;32mif\u001b[0m \u001b[0merrors\u001b[0m \u001b[0;34m!=\u001b[0m \u001b[0;34m\"ignore\"\u001b[0m\u001b[0;34m:\u001b[0m\u001b[0;34m\u001b[0m\u001b[0;34m\u001b[0m\u001b[0m\n\u001b[0;32m-> 5340\u001b[0;31m                 \u001b[0;32mraise\u001b[0m \u001b[0mKeyError\u001b[0m\u001b[0;34m(\u001b[0m\u001b[0;34m\"{} not found in axis\"\u001b[0m\u001b[0;34m.\u001b[0m\u001b[0mformat\u001b[0m\u001b[0;34m(\u001b[0m\u001b[0mlabels\u001b[0m\u001b[0;34m[\u001b[0m\u001b[0mmask\u001b[0m\u001b[0;34m]\u001b[0m\u001b[0;34m)\u001b[0m\u001b[0;34m)\u001b[0m\u001b[0;34m\u001b[0m\u001b[0;34m\u001b[0m\u001b[0m\n\u001b[0m\u001b[1;32m   5341\u001b[0m             \u001b[0mindexer\u001b[0m \u001b[0;34m=\u001b[0m \u001b[0mindexer\u001b[0m\u001b[0;34m[\u001b[0m\u001b[0;34m~\u001b[0m\u001b[0mmask\u001b[0m\u001b[0;34m]\u001b[0m\u001b[0;34m\u001b[0m\u001b[0;34m\u001b[0m\u001b[0m\n\u001b[1;32m   5342\u001b[0m         \u001b[0;32mreturn\u001b[0m \u001b[0mself\u001b[0m\u001b[0;34m.\u001b[0m\u001b[0mdelete\u001b[0m\u001b[0;34m(\u001b[0m\u001b[0mindexer\u001b[0m\u001b[0;34m)\u001b[0m\u001b[0;34m\u001b[0m\u001b[0;34m\u001b[0m\u001b[0m\n",
            "\u001b[0;31mKeyError\u001b[0m: \"[''] not found in axis\""
          ]
        }
      ]
    },
    {
      "cell_type": "code",
      "metadata": {
        "id": "yM5jXqqCUmje",
        "colab_type": "code",
        "colab": {}
      },
      "source": [
        "disciplinas[disciplinas[\"codigo_disciplina\"] == \"CCAP0103\"]"
      ],
      "execution_count": 0,
      "outputs": []
    },
    {
      "cell_type": "markdown",
      "metadata": {
        "id": "ButlzPH8RcK5",
        "colab_type": "text"
      },
      "source": [
        "<br>\n",
        "\n",
        "---\n",
        "\n",
        "<br>\n",
        "\n",
        "<h2>Matriculas</h2>\n",
        "\n",
        "\n"
      ]
    },
    {
      "cell_type": "markdown",
      "metadata": {
        "id": "ft3I59dP-INq",
        "colab_type": "text"
      },
      "source": [
        "\n",
        "* **matriculas**(id_matricula_disciplina, resultado_disciplina, ano, periodo, id_disciplina, id_discente, media_final, numero_faltas, docente_nome)\n",
        "\n",
        "  matricula.id_discente -> discente.id_discente\n",
        "\n",
        "  matricula.id_docente -> docente.id_docente\n",
        "\n",
        "  matricula.id_disciplina -> disciplina.id_disciplina"
      ]
    },
    {
      "cell_type": "code",
      "metadata": {
        "id": "utrzu37ptPWs",
        "colab_type": "code",
        "outputId": "8ea1d2ca-eb07-4739-9dff-e9d58cc44299",
        "colab": {
          "base_uri": "https://localhost:8080/",
          "height": 245
        }
      },
      "source": [
        "matriculas_denorm = pd.read_csv(\"matriculas_2018.csv\")\n",
        "\n",
        "matriculas = matriculas_denorm[['id_matricula_disciplina', 'resultado_disciplina', 'ano', 'periodo', 'codigo_disciplina', 'id_discente', 'media_final', 'numero_faltas']].copy()\n",
        "print('Número de linhas: ',len(matriculas))\n",
        "matriculas.drop_duplicates(inplace = True)\n",
        "matriculas.head(6)"
      ],
      "execution_count": 0,
      "outputs": [
        {
          "output_type": "stream",
          "text": [
            "Número de linhas:  68014\n"
          ],
          "name": "stdout"
        },
        {
          "output_type": "execute_result",
          "data": {
            "text/html": [
              "<div>\n",
              "<style scoped>\n",
              "    .dataframe tbody tr th:only-of-type {\n",
              "        vertical-align: middle;\n",
              "    }\n",
              "\n",
              "    .dataframe tbody tr th {\n",
              "        vertical-align: top;\n",
              "    }\n",
              "\n",
              "    .dataframe thead th {\n",
              "        text-align: right;\n",
              "    }\n",
              "</style>\n",
              "<table border=\"1\" class=\"dataframe\">\n",
              "  <thead>\n",
              "    <tr style=\"text-align: right;\">\n",
              "      <th></th>\n",
              "      <th>id_matricula_disciplina</th>\n",
              "      <th>resultado_disciplina</th>\n",
              "      <th>ano</th>\n",
              "      <th>periodo</th>\n",
              "      <th>codigo_disciplina</th>\n",
              "      <th>id_discente</th>\n",
              "      <th>media_final</th>\n",
              "      <th>numero_faltas</th>\n",
              "    </tr>\n",
              "  </thead>\n",
              "  <tbody>\n",
              "    <tr>\n",
              "      <th>0</th>\n",
              "      <td>355799</td>\n",
              "      <td>APROVADO</td>\n",
              "      <td>2018</td>\n",
              "      <td>1</td>\n",
              "      <td>CCLH0025</td>\n",
              "      <td>b60a59793f8a6f6e82ebf9118834a73f</td>\n",
              "      <td>5.5</td>\n",
              "      <td>0.0</td>\n",
              "    </tr>\n",
              "    <tr>\n",
              "      <th>1</th>\n",
              "      <td>367655</td>\n",
              "      <td>APROVADO</td>\n",
              "      <td>2018</td>\n",
              "      <td>1</td>\n",
              "      <td>CCLH0025</td>\n",
              "      <td>878f6f53af90c86a083b81981efc8e54</td>\n",
              "      <td>7.1</td>\n",
              "      <td>0.0</td>\n",
              "    </tr>\n",
              "    <tr>\n",
              "      <th>2</th>\n",
              "      <td>385123</td>\n",
              "      <td>APROVADO</td>\n",
              "      <td>2018</td>\n",
              "      <td>2</td>\n",
              "      <td>CCLH0025</td>\n",
              "      <td>f5ea8a84a6d60c74972d3a26d6794131</td>\n",
              "      <td>9.3</td>\n",
              "      <td>8.0</td>\n",
              "    </tr>\n",
              "    <tr>\n",
              "      <th>3</th>\n",
              "      <td>367598</td>\n",
              "      <td>REPROVADO</td>\n",
              "      <td>2018</td>\n",
              "      <td>1</td>\n",
              "      <td>CCLH0025</td>\n",
              "      <td>4e3ab15c288d2b37b94c35b355f36672</td>\n",
              "      <td>0.0</td>\n",
              "      <td>0.0</td>\n",
              "    </tr>\n",
              "    <tr>\n",
              "      <th>4</th>\n",
              "      <td>382992</td>\n",
              "      <td>APROVADO</td>\n",
              "      <td>2018</td>\n",
              "      <td>2</td>\n",
              "      <td>CCLH0025</td>\n",
              "      <td>0bfd02874c1edd452e2b9fcec14c859e</td>\n",
              "      <td>8.2</td>\n",
              "      <td>12.0</td>\n",
              "    </tr>\n",
              "    <tr>\n",
              "      <th>6</th>\n",
              "      <td>367607</td>\n",
              "      <td>REPROVADO</td>\n",
              "      <td>2018</td>\n",
              "      <td>1</td>\n",
              "      <td>CCLH0025</td>\n",
              "      <td>74bfacfa56b05ae1442f80facab3161c</td>\n",
              "      <td>0.9</td>\n",
              "      <td>0.0</td>\n",
              "    </tr>\n",
              "  </tbody>\n",
              "</table>\n",
              "</div>"
            ],
            "text/plain": [
              "   id_matricula_disciplina resultado_disciplina  ...  media_final  numero_faltas\n",
              "0                   355799             APROVADO  ...          5.5            0.0\n",
              "1                   367655             APROVADO  ...          7.1            0.0\n",
              "2                   385123             APROVADO  ...          9.3            8.0\n",
              "3                   367598            REPROVADO  ...          0.0            0.0\n",
              "4                   382992             APROVADO  ...          8.2           12.0\n",
              "6                   367607            REPROVADO  ...          0.9            0.0\n",
              "\n",
              "[6 rows x 8 columns]"
            ]
          },
          "metadata": {
            "tags": []
          },
          "execution_count": 31
        }
      ]
    },
    {
      "cell_type": "markdown",
      "metadata": {
        "id": "litMm-MjSEv_",
        "colab_type": "text"
      },
      "source": [
        "<br><h3>Consistente?</h3>\n",
        "\n",
        "<p>Possui dulicatas?<p>"
      ]
    },
    {
      "cell_type": "code",
      "metadata": {
        "colab_type": "code",
        "outputId": "a58f8cbe-f248-4439-8455-d813ed76c716",
        "id": "-APWzGztTi-2",
        "colab": {
          "base_uri": "https://localhost:8080/",
          "height": 34
        }
      },
      "source": [
        "matriculas[['codigo_disciplina','id_discente','periodo', 'ano','resultado_disciplina','media_final','numero_faltas', 'id_matricula_disciplina']].duplicated().any()"
      ],
      "execution_count": 0,
      "outputs": [
        {
          "output_type": "execute_result",
          "data": {
            "text/plain": [
              "False"
            ]
          },
          "metadata": {
            "tags": []
          },
          "execution_count": 42
        }
      ]
    },
    {
      "cell_type": "markdown",
      "metadata": {
        "id": "FiXQr2oBU12i",
        "colab_type": "text"
      },
      "source": [
        "<br><p>Possui chave?</p>\n",
        "<p>Sim, a coluna id_matricula_disciplina</p><br>\n"
      ]
    },
    {
      "cell_type": "code",
      "metadata": {
        "id": "pg8ngRjEUief",
        "colab_type": "code",
        "colab": {}
      },
      "source": [
        ""
      ],
      "execution_count": 0,
      "outputs": []
    },
    {
      "cell_type": "markdown",
      "metadata": {
        "id": "dGFxAFKcSK6w",
        "colab_type": "text"
      },
      "source": [
        "<br>\n",
        "\n",
        "---\n",
        "\n",
        "<br>\n",
        "\n",
        "<h2> Cursos"
      ]
    },
    {
      "cell_type": "code",
      "metadata": {
        "id": "7PJy2EmivXDt",
        "colab_type": "code",
        "outputId": "922a26e4-8d97-4f8a-ed93-f94bfdbcbda0",
        "colab": {
          "base_uri": "https://localhost:8080/",
          "height": 241
        }
      },
      "source": [
        "cursos = pd.read_csv(\"cursos.csv\")\n",
        "cursos = cursos.drop(\"Tipo de Oferta da Disciplina\",1)\n",
        "cursos = cursos.drop(\"Portaria Reconhecimento\",1)\n",
        "cursos = cursos.drop(\"DOU\",1)\n",
        "cursos = cursos.drop(\"Data Cadastro\",1)\n",
        "cursos = cursos.drop(\"Grau Acadêmico\",1)\n",
        "cursos = cursos.drop(\"Código INEP\",1)\n",
        "cursos = cursos.drop(20) #Retirando coluna que repetida\n",
        "cursos = cursos.drop(\"Município\",1)\n",
        "print(\"Numero de de cursos: \" + str(len(cursos)))\n",
        "print(\"Tem duplicata usando Cursos e Modalidade Educação como chave? \" + str((cursos[[\"Curso\",\"Modalidade Educação\"]]).duplicated().any()))\n",
        "cursos.head()"
      ],
      "execution_count": 0,
      "outputs": [
        {
          "output_type": "stream",
          "text": [
            "Numero de de cursos: 41\n",
            "Tem duplicata usando Cursos e Modalidade Educação como chave? True\n"
          ],
          "name": "stdout"
        },
        {
          "output_type": "execute_result",
          "data": {
            "text/html": [
              "<div>\n",
              "<style scoped>\n",
              "    .dataframe tbody tr th:only-of-type {\n",
              "        vertical-align: middle;\n",
              "    }\n",
              "\n",
              "    .dataframe tbody tr th {\n",
              "        vertical-align: top;\n",
              "    }\n",
              "\n",
              "    .dataframe thead th {\n",
              "        text-align: right;\n",
              "    }\n",
              "</style>\n",
              "<table border=\"1\" class=\"dataframe\">\n",
              "  <thead>\n",
              "    <tr style=\"text-align: right;\">\n",
              "      <th></th>\n",
              "      <th>ID</th>\n",
              "      <th>Curso</th>\n",
              "      <th>Modalidade Educação</th>\n",
              "      <th>Área Conhecimento CNPQ</th>\n",
              "    </tr>\n",
              "  </thead>\n",
              "  <tbody>\n",
              "    <tr>\n",
              "      <th>0</th>\n",
              "      <td>1</td>\n",
              "      <td>ADMINISTRAÇÃO PÚBLICA</td>\n",
              "      <td>A Distância</td>\n",
              "      <td>Ciências Sociais Aplicadas</td>\n",
              "    </tr>\n",
              "    <tr>\n",
              "      <th>1</th>\n",
              "      <td>2</td>\n",
              "      <td>ADMINISTRAÇÃO  PÚBLICA</td>\n",
              "      <td>Presencial - Trimestral</td>\n",
              "      <td>Ciências Sociais Aplicadas</td>\n",
              "    </tr>\n",
              "    <tr>\n",
              "      <th>2</th>\n",
              "      <td>3</td>\n",
              "      <td>ADMINISTRAÇÃO PÚBLICA - SEMESTRAL</td>\n",
              "      <td>Presencial</td>\n",
              "      <td>Ciências Sociais Aplicadas</td>\n",
              "    </tr>\n",
              "    <tr>\n",
              "      <th>3</th>\n",
              "      <td>4</td>\n",
              "      <td>AGRONOMIA</td>\n",
              "      <td>Presencial</td>\n",
              "      <td>Ciências Agrárias</td>\n",
              "    </tr>\n",
              "    <tr>\n",
              "      <th>4</th>\n",
              "      <td>5</td>\n",
              "      <td>AGRONOMIA - TRIMESTRAL</td>\n",
              "      <td>Presencial - Trimestral</td>\n",
              "      <td>Ciências Agrárias</td>\n",
              "    </tr>\n",
              "  </tbody>\n",
              "</table>\n",
              "</div>"
            ],
            "text/plain": [
              "   ID  ...      Área Conhecimento CNPQ\n",
              "0   1  ...  Ciências Sociais Aplicadas\n",
              "1   2  ...  Ciências Sociais Aplicadas\n",
              "2   3  ...  Ciências Sociais Aplicadas\n",
              "3   4  ...           Ciências Agrárias\n",
              "4   5  ...           Ciências Agrárias\n",
              "\n",
              "[5 rows x 4 columns]"
            ]
          },
          "metadata": {
            "tags": []
          },
          "execution_count": 100
        }
      ]
    },
    {
      "cell_type": "code",
      "metadata": {
        "id": "LecZi5dBT8mc",
        "colab_type": "code",
        "outputId": "082d491b-446e-4784-c1d8-d1a230e47708",
        "colab": {
          "base_uri": "https://localhost:8080/",
          "height": 52
        }
      },
      "source": [
        "#Removendo as duplicatas\n",
        "cursos.drop_duplicates(subset =[\"Curso\",\"Modalidade Educação\"],keep = 'first', inplace = True)\n",
        "print(\"Tem duplicata usando Cursos e Modalidade Educação como chave? \" + str((cursos[[\"Curso\",\"Modalidade Educação\"]]).duplicated().any()))\n",
        "print(\"Numerode de cursos: \" + str(len(cursos)))"
      ],
      "execution_count": 0,
      "outputs": [
        {
          "output_type": "stream",
          "text": [
            "Tem duplicata usando Cursos e Modalidade Educação como chave? False\n",
            "Numerode de cursos: 37\n"
          ],
          "name": "stdout"
        }
      ]
    },
    {
      "cell_type": "markdown",
      "metadata": {
        "id": "BWyxtIItMSb0",
        "colab_type": "text"
      },
      "source": [
        "O objetivo de nao haver duplicatas em cursos em relacao ao nome do curso e a modalidade de educação é porque dessa forma podemos fazer um mapeamento na tabela alunos para o ID de cada curso. Dessa forma, fazermos isso para deixar as tabelas na forma normal e evitar redundancias. "
      ]
    },
    {
      "cell_type": "markdown",
      "metadata": {
        "id": "Hb1Lst_ENHpL",
        "colab_type": "text"
      },
      "source": [
        "<br>\n",
        "\n",
        "---\n",
        "\n",
        "<br>\n",
        "\n",
        "<h2> Docentes"
      ]
    },
    {
      "cell_type": "code",
      "metadata": {
        "id": "EmfuWtYwvXHe",
        "colab_type": "code",
        "outputId": "c1559206-5ec5-404a-8e32-d013b795b4d7",
        "colab": {
          "base_uri": "https://localhost:8080/",
          "height": 224
        }
      },
      "source": [
        "docentes = pd.read_csv(\"docentes.csv\")\n",
        "docentes = docentes.drop('categoria',1)\n",
        "docentes = docentes.drop('denominacao',1)\n",
        "docentes = docentes.drop('unidade',1)\n",
        "print(len(docentes))\n",
        "docentes.head() "
      ],
      "execution_count": 0,
      "outputs": [
        {
          "output_type": "stream",
          "text": [
            "350\n"
          ],
          "name": "stdout"
        },
        {
          "output_type": "execute_result",
          "data": {
            "text/html": [
              "<div>\n",
              "<style scoped>\n",
              "    .dataframe tbody tr th:only-of-type {\n",
              "        vertical-align: middle;\n",
              "    }\n",
              "\n",
              "    .dataframe tbody tr th {\n",
              "        vertical-align: top;\n",
              "    }\n",
              "\n",
              "    .dataframe thead th {\n",
              "        text-align: right;\n",
              "    }\n",
              "</style>\n",
              "<table border=\"1\" class=\"dataframe\">\n",
              "  <thead>\n",
              "    <tr style=\"text-align: right;\">\n",
              "      <th></th>\n",
              "      <th>nome</th>\n",
              "      <th>sigla</th>\n",
              "      <th>situação</th>\n",
              "    </tr>\n",
              "  </thead>\n",
              "  <tbody>\n",
              "    <tr>\n",
              "      <th>0</th>\n",
              "      <td>ANDREA GOMES LINARD</td>\n",
              "      <td>ICS</td>\n",
              "      <td>Ativo Permanente</td>\n",
              "    </tr>\n",
              "    <tr>\n",
              "      <th>1</th>\n",
              "      <td>LEILANE BARBOSA DE SOUSA</td>\n",
              "      <td>ICS</td>\n",
              "      <td>Ativo Permanente</td>\n",
              "    </tr>\n",
              "    <tr>\n",
              "      <th>2</th>\n",
              "      <td>MARIA AUXILIADORA BEZERRA FECHINE</td>\n",
              "      <td>ICS</td>\n",
              "      <td>Ativo Permanente</td>\n",
              "    </tr>\n",
              "    <tr>\n",
              "      <th>3</th>\n",
              "      <td>ANA CAROLINE ROCHA DE MELO LEITE</td>\n",
              "      <td>ICS</td>\n",
              "      <td>Ativo Permanente</td>\n",
              "    </tr>\n",
              "    <tr>\n",
              "      <th>4</th>\n",
              "      <td>FLAVIA PAULA MAGALHÃES MONTEIRO</td>\n",
              "      <td>ICS</td>\n",
              "      <td>Ativo Permanente</td>\n",
              "    </tr>\n",
              "  </tbody>\n",
              "</table>\n",
              "</div>"
            ],
            "text/plain": [
              "                                nome sigla          situação\n",
              "0                ANDREA GOMES LINARD   ICS  Ativo Permanente\n",
              "1           LEILANE BARBOSA DE SOUSA   ICS  Ativo Permanente\n",
              "2  MARIA AUXILIADORA BEZERRA FECHINE   ICS  Ativo Permanente\n",
              "3   ANA CAROLINE ROCHA DE MELO LEITE   ICS  Ativo Permanente\n",
              "4    FLAVIA PAULA MAGALHÃES MONTEIRO   ICS  Ativo Permanente"
            ]
          },
          "metadata": {
            "tags": []
          },
          "execution_count": 102
        }
      ]
    },
    {
      "cell_type": "code",
      "metadata": {
        "id": "GOdNDixBvXKV",
        "colab_type": "code",
        "outputId": "7b9e81b8-2a18-447f-f615-19c6235ef67d",
        "colab": {
          "base_uri": "https://localhost:8080/",
          "height": 52
        }
      },
      "source": [
        "print(\"Tamanho de docentes: \" + str(len(docentes)))\n",
        "print(\"Tamanho de docentes sem repetir nomes: \" + str(len(docentes.groupby([\"nome\"]).count())))\n",
        "\n",
        "# Sabemos que nome não é uma chave primaria muito boa, contudo, como nao temos as informacoes necessarias nas outras tabelas em que um docente aparece, nao conseguimos trocar a chave primaria para uma chave unica, por exemplo, uma numerica."
      ],
      "execution_count": 0,
      "outputs": [
        {
          "output_type": "stream",
          "text": [
            "Tamanho de docentes: 350\n",
            "Tamanho de docentes sem repetir nomes: 346\n"
          ],
          "name": "stdout"
        }
      ]
    },
    {
      "cell_type": "markdown",
      "metadata": {
        "id": "0hl3O0r174a1",
        "colab_type": "text"
      },
      "source": [
        "<br>\n",
        "\n",
        "---\n",
        "\n",
        "<br>\n",
        "\n",
        "<h2> Alunos"
      ]
    },
    {
      "cell_type": "code",
      "metadata": {
        "id": "VVo8DEMjWpS3",
        "colab_type": "code",
        "outputId": "72f94074-e373-41d0-a378-dd077a3e9023",
        "colab": {
          "base_uri": "https://localhost:8080/",
          "height": 195
        }
      },
      "source": [
        "alunos = pd.read_csv(\"alunos.csv\")\n",
        "alunos.groupby('estado').count()"
      ],
      "execution_count": 0,
      "outputs": [
        {
          "output_type": "execute_result",
          "data": {
            "text/html": [
              "<div>\n",
              "<style scoped>\n",
              "    .dataframe tbody tr th:only-of-type {\n",
              "        vertical-align: middle;\n",
              "    }\n",
              "\n",
              "    .dataframe tbody tr th {\n",
              "        vertical-align: top;\n",
              "    }\n",
              "\n",
              "    .dataframe thead th {\n",
              "        text-align: right;\n",
              "    }\n",
              "</style>\n",
              "<table border=\"1\" class=\"dataframe\">\n",
              "  <thead>\n",
              "    <tr style=\"text-align: right;\">\n",
              "      <th></th>\n",
              "      <th>id_discente</th>\n",
              "      <th>matricula</th>\n",
              "      <th>ano_ingresso</th>\n",
              "      <th>periodo_ingresso</th>\n",
              "      <th>periodo_atual</th>\n",
              "      <th>sexo</th>\n",
              "      <th>idade</th>\n",
              "      <th>raça</th>\n",
              "      <th>pais</th>\n",
              "      <th>curso</th>\n",
              "      <th>nivel</th>\n",
              "      <th>modalidade</th>\n",
              "      <th>polo</th>\n",
              "      <th>forma_ingresso</th>\n",
              "      <th>discente_situacao</th>\n",
              "      <th>beneficiado_auxilio</th>\n",
              "      <th>prazo_conclusao</th>\n",
              "      <th>data_colacao_grau</th>\n",
              "    </tr>\n",
              "    <tr>\n",
              "      <th>estado</th>\n",
              "      <th></th>\n",
              "      <th></th>\n",
              "      <th></th>\n",
              "      <th></th>\n",
              "      <th></th>\n",
              "      <th></th>\n",
              "      <th></th>\n",
              "      <th></th>\n",
              "      <th></th>\n",
              "      <th></th>\n",
              "      <th></th>\n",
              "      <th></th>\n",
              "      <th></th>\n",
              "      <th></th>\n",
              "      <th></th>\n",
              "      <th></th>\n",
              "      <th></th>\n",
              "      <th></th>\n",
              "    </tr>\n",
              "  </thead>\n",
              "  <tbody>\n",
              "    <tr>\n",
              "      <th>Bahia</th>\n",
              "      <td>1161</td>\n",
              "      <td>1161</td>\n",
              "      <td>1161</td>\n",
              "      <td>1161</td>\n",
              "      <td>1059</td>\n",
              "      <td>1161</td>\n",
              "      <td>1161</td>\n",
              "      <td>1161</td>\n",
              "      <td>1161</td>\n",
              "      <td>1161</td>\n",
              "      <td>1161</td>\n",
              "      <td>1161</td>\n",
              "      <td>102</td>\n",
              "      <td>1161</td>\n",
              "      <td>1161</td>\n",
              "      <td>1161</td>\n",
              "      <td>1059</td>\n",
              "      <td>0</td>\n",
              "    </tr>\n",
              "    <tr>\n",
              "      <th>Ceará</th>\n",
              "      <td>5088</td>\n",
              "      <td>5088</td>\n",
              "      <td>5088</td>\n",
              "      <td>5088</td>\n",
              "      <td>4225</td>\n",
              "      <td>5088</td>\n",
              "      <td>5088</td>\n",
              "      <td>5080</td>\n",
              "      <td>5088</td>\n",
              "      <td>5088</td>\n",
              "      <td>5088</td>\n",
              "      <td>5088</td>\n",
              "      <td>1094</td>\n",
              "      <td>5088</td>\n",
              "      <td>5088</td>\n",
              "      <td>5088</td>\n",
              "      <td>4225</td>\n",
              "      <td>0</td>\n",
              "    </tr>\n",
              "    <tr>\n",
              "      <th>Pará</th>\n",
              "      <td>41</td>\n",
              "      <td>41</td>\n",
              "      <td>41</td>\n",
              "      <td>41</td>\n",
              "      <td>0</td>\n",
              "      <td>41</td>\n",
              "      <td>41</td>\n",
              "      <td>41</td>\n",
              "      <td>41</td>\n",
              "      <td>41</td>\n",
              "      <td>41</td>\n",
              "      <td>41</td>\n",
              "      <td>41</td>\n",
              "      <td>41</td>\n",
              "      <td>41</td>\n",
              "      <td>41</td>\n",
              "      <td>0</td>\n",
              "      <td>0</td>\n",
              "    </tr>\n",
              "  </tbody>\n",
              "</table>\n",
              "</div>"
            ],
            "text/plain": [
              "        id_discente  matricula  ...  prazo_conclusao  data_colacao_grau\n",
              "estado                          ...                                    \n",
              "Bahia          1161       1161  ...             1059                  0\n",
              "Ceará          5088       5088  ...             4225                  0\n",
              "Pará             41         41  ...                0                  0\n",
              "\n",
              "[3 rows x 18 columns]"
            ]
          },
          "metadata": {
            "tags": []
          },
          "execution_count": 117
        }
      ]
    },
    {
      "cell_type": "code",
      "metadata": {
        "id": "Q-BiQEXXW5i8",
        "colab_type": "code",
        "outputId": "41000af3-7b8d-4fb5-ebb6-551bcaf9a9b6",
        "colab": {
          "base_uri": "https://localhost:8080/",
          "height": 202
        }
      },
      "source": [
        "#tem q tirar os alunos do para\n",
        "#todos eles tem o curso bugado: SAÚDE DA FAMÍLIA - 2017.2\n",
        "((alunos[alunos['estado'] == 'Pará']).groupby(\"curso\").count()).head()\n",
        "\n",
        "#Observe que todos os alunos do Pará fazem o emso curso. Este curso não esta na tabela de cursos."
      ],
      "execution_count": 0,
      "outputs": [
        {
          "output_type": "execute_result",
          "data": {
            "text/html": [
              "<div>\n",
              "<style scoped>\n",
              "    .dataframe tbody tr th:only-of-type {\n",
              "        vertical-align: middle;\n",
              "    }\n",
              "\n",
              "    .dataframe tbody tr th {\n",
              "        vertical-align: top;\n",
              "    }\n",
              "\n",
              "    .dataframe thead th {\n",
              "        text-align: right;\n",
              "    }\n",
              "</style>\n",
              "<table border=\"1\" class=\"dataframe\">\n",
              "  <thead>\n",
              "    <tr style=\"text-align: right;\">\n",
              "      <th></th>\n",
              "      <th>id_discente</th>\n",
              "      <th>matricula</th>\n",
              "      <th>ano_ingresso</th>\n",
              "      <th>periodo_ingresso</th>\n",
              "      <th>periodo_atual</th>\n",
              "      <th>sexo</th>\n",
              "      <th>idade</th>\n",
              "      <th>raça</th>\n",
              "      <th>pais</th>\n",
              "      <th>nivel</th>\n",
              "      <th>modalidade</th>\n",
              "      <th>estado</th>\n",
              "      <th>polo</th>\n",
              "      <th>forma_ingresso</th>\n",
              "      <th>discente_situacao</th>\n",
              "      <th>beneficiado_auxilio</th>\n",
              "      <th>prazo_conclusao</th>\n",
              "      <th>data_colacao_grau</th>\n",
              "    </tr>\n",
              "    <tr>\n",
              "      <th>curso</th>\n",
              "      <th></th>\n",
              "      <th></th>\n",
              "      <th></th>\n",
              "      <th></th>\n",
              "      <th></th>\n",
              "      <th></th>\n",
              "      <th></th>\n",
              "      <th></th>\n",
              "      <th></th>\n",
              "      <th></th>\n",
              "      <th></th>\n",
              "      <th></th>\n",
              "      <th></th>\n",
              "      <th></th>\n",
              "      <th></th>\n",
              "      <th></th>\n",
              "      <th></th>\n",
              "      <th></th>\n",
              "    </tr>\n",
              "  </thead>\n",
              "  <tbody>\n",
              "    <tr>\n",
              "      <th>SAÚDE DA FAMÍLIA - 2017.2</th>\n",
              "      <td>41</td>\n",
              "      <td>41</td>\n",
              "      <td>41</td>\n",
              "      <td>41</td>\n",
              "      <td>0</td>\n",
              "      <td>41</td>\n",
              "      <td>41</td>\n",
              "      <td>41</td>\n",
              "      <td>41</td>\n",
              "      <td>41</td>\n",
              "      <td>41</td>\n",
              "      <td>41</td>\n",
              "      <td>41</td>\n",
              "      <td>41</td>\n",
              "      <td>41</td>\n",
              "      <td>41</td>\n",
              "      <td>0</td>\n",
              "      <td>0</td>\n",
              "    </tr>\n",
              "  </tbody>\n",
              "</table>\n",
              "</div>"
            ],
            "text/plain": [
              "                           id_discente  ...  data_colacao_grau\n",
              "curso                                   ...                   \n",
              "SAÚDE DA FAMÍLIA - 2017.2           41  ...                  0\n",
              "\n",
              "[1 rows x 18 columns]"
            ]
          },
          "metadata": {
            "tags": []
          },
          "execution_count": 121
        }
      ]
    },
    {
      "cell_type": "code",
      "metadata": {
        "id": "xw8oqlKcX7oF",
        "colab_type": "code",
        "outputId": "ee2e74b3-42b6-4080-8b8d-0d1aaa80fefe",
        "colab": {
          "base_uri": "https://localhost:8080/",
          "height": 399
        }
      },
      "source": [
        "#Todos os cursos que sao feitos por esses alunos -> Muitos deles são cursos antigos (de antes de 2018) que não estao \n",
        "#em nossa tabela de cursos, uma vez que temos somente informações sobre os cursos de 2018\n",
        "print(\"numero de cursos: \" + str(len(alunos.groupby('curso').count().index)))\n",
        "alunos.groupby('curso').count().index"
      ],
      "execution_count": 0,
      "outputs": [
        {
          "output_type": "stream",
          "text": [
            "numero de cursos: 41\n"
          ],
          "name": "stdout"
        },
        {
          "output_type": "execute_result",
          "data": {
            "text/plain": [
              "Index(['ADMINISTRAÇÃO PÚBLICA', 'ADMINISTRAÇÃO PÚBLICA - SEMESTRAL',\n",
              "       'AGRONOMIA', 'ANTROPOLOGIA', 'CIÊNCIAS BIOLÓGICAS',\n",
              "       'CIÊNCIAS DA NATUREZA E MATEMÁTICA', 'CIÊNCIAS SOCIAIS', 'ENFERMAGEM',\n",
              "       'ENGENHARIA DA COMPUTAÇÃO', 'ENGENHARIA DE ENERGIAS',\n",
              "       'ENSINO E FORMAÇÃO DOCENTE', 'ESTUDOS DA LINGUAGEM', 'FARMÁCIA',\n",
              "       'FÍSICA', 'GESTÃO EM SAÚDE - OFERTA 2013.1', 'GESTÃO EM SAÚDE 2017.1',\n",
              "       'GESTÃO EM SAÚDE 2017.2', 'GESTÃO EM SAÚDE 2018.2',\n",
              "       'GESTÃO PÚBLICA - 2017.1', 'GESTÃO PÚBLICA - 2017.2',\n",
              "       'GESTÃO PÚBLICA MUNICIPAL - 2017.2', 'HISTÓRIA', 'HUMANIDADES',\n",
              "       'LETRAS -  LÍNGUA PORTUGUESA', 'LETRAS - LÍNGUA INGLESA',\n",
              "       'LETRAS - LÍNGUA PORTUGUESA', 'MATEMÁTICA',\n",
              "       'MESTRADO ACADÊMICO EM ANTROPOLOGIA UFC/UNILAB',\n",
              "       'MESTRADO ACADÊMICO EM ENERGIA E AMBIENTE',\n",
              "       'MESTRADO ACADÊMICO EM ENFERMAGEM',\n",
              "       'MESTRADO PROFISSIONAL EM MATEMÁTICA EM REDE NACIONAL', 'PEDAGOGIA',\n",
              "       'PROGRAMA DE PÓS-GRADUAÇÃO INTERDISCIPLINAR EM HUMANIDADES', 'QUIMÍCA',\n",
              "       'RELAÇÕES INTERNACIONAIS', 'SAÚDE DA FAMÍLIA - 2017.1',\n",
              "       'SAÚDE DA FAMÍLIA - 2017.2', 'SAÚDE DA FAMÍLIA - 2018.2',\n",
              "       'SEGURANÇA ALIMENTAR E NUTRICIONAL',\n",
              "       'SOCIOBIODIVERSIDADE E TECNOLOGIAS SUSTENTÁVEIS', 'SOCIOLOGIA'],\n",
              "      dtype='object', name='curso')"
            ]
          },
          "metadata": {
            "tags": []
          },
          "execution_count": 125
        }
      ]
    },
    {
      "cell_type": "code",
      "metadata": {
        "id": "RpsVtby1xvkY",
        "colab_type": "code",
        "colab": {}
      },
      "source": [
        "alunos = pd.read_csv(\"alunos.csv\")\n",
        "discentes = pd.read_csv(\"alunos.csv\")\n",
        "\n",
        "discentes = discentes.drop('polo',1)\n",
        "discentes = discentes.drop('prazo_conclusao',1)\n",
        "discentes = discentes.drop('periodo_ingresso',1)\n",
        "discentes = discentes.drop('data_colacao_grau',1)\n",
        "discentes = discentes.drop('nivel',1)\n",
        "discentes = discentes.drop('estado',1)"
      ],
      "execution_count": 0,
      "outputs": []
    },
    {
      "cell_type": "code",
      "metadata": {
        "id": "RJMdL4GCx1g8",
        "colab_type": "code",
        "colab": {}
      },
      "source": [
        "curso_id = []\n",
        "for i in range (len(alunos)):\n",
        "  match = False\n",
        "  for j in range (len(cursos)):\n",
        "    if alunos[\"curso\"].iloc[i] == cursos[\"Curso\"].iloc[j] and alunos[\"modalidade\"].iloc[i] == cursos[\"Modalidade Educação\"].iloc[j]:\n",
        "      id = cursos[\"ID\"].iloc[j]\n",
        "      curso_id.append(id)\n",
        "      match = True\n",
        "  if not(match):\n",
        "    discentes = discentes.drop(alunos.index[i])"
      ],
      "execution_count": 0,
      "outputs": []
    },
    {
      "cell_type": "code",
      "metadata": {
        "id": "9jAn4fG8x5AR",
        "colab_type": "code",
        "colab": {}
      },
      "source": [
        "discentes[\"id_curso\"] = curso_id"
      ],
      "execution_count": 0,
      "outputs": []
    },
    {
      "cell_type": "code",
      "metadata": {
        "id": "FAFvCbGSx7Hc",
        "colab_type": "code",
        "colab": {}
      },
      "source": [
        "discentes = discentes.drop('curso',1)\n",
        "discentes = discentes.drop('modalidade',1)"
      ],
      "execution_count": 0,
      "outputs": []
    },
    {
      "cell_type": "code",
      "metadata": {
        "id": "P5kShcP_yUnV",
        "colab_type": "code",
        "outputId": "13a82683-8cf0-48d0-981f-441ce3f01a08",
        "colab": {
          "base_uri": "https://localhost:8080/",
          "height": 313
        }
      },
      "source": [
        "discentes.head()"
      ],
      "execution_count": 0,
      "outputs": [
        {
          "output_type": "execute_result",
          "data": {
            "text/html": [
              "<div>\n",
              "<style scoped>\n",
              "    .dataframe tbody tr th:only-of-type {\n",
              "        vertical-align: middle;\n",
              "    }\n",
              "\n",
              "    .dataframe tbody tr th {\n",
              "        vertical-align: top;\n",
              "    }\n",
              "\n",
              "    .dataframe thead th {\n",
              "        text-align: right;\n",
              "    }\n",
              "</style>\n",
              "<table border=\"1\" class=\"dataframe\">\n",
              "  <thead>\n",
              "    <tr style=\"text-align: right;\">\n",
              "      <th></th>\n",
              "      <th>id_discente</th>\n",
              "      <th>matricula</th>\n",
              "      <th>ano_ingresso</th>\n",
              "      <th>periodo_atual</th>\n",
              "      <th>sexo</th>\n",
              "      <th>idade</th>\n",
              "      <th>raça</th>\n",
              "      <th>pais</th>\n",
              "      <th>forma_ingresso</th>\n",
              "      <th>discente_situacao</th>\n",
              "      <th>beneficiado_auxilio</th>\n",
              "      <th>id_curso</th>\n",
              "    </tr>\n",
              "  </thead>\n",
              "  <tbody>\n",
              "    <tr>\n",
              "      <th>0</th>\n",
              "      <td>0003ba85ff2e992a07361dbe7e28d0bf</td>\n",
              "      <td>2018102***</td>\n",
              "      <td>2018</td>\n",
              "      <td>4.0</td>\n",
              "      <td>M</td>\n",
              "      <td>24</td>\n",
              "      <td>Negra</td>\n",
              "      <td>Angola</td>\n",
              "      <td>SELEÇÃO DE ESTUDANTES ESTRANGEIROS</td>\n",
              "      <td>ATIVO</td>\n",
              "      <td>f</td>\n",
              "      <td>33</td>\n",
              "    </tr>\n",
              "    <tr>\n",
              "      <th>1</th>\n",
              "      <td>00082dd79190f2e00b15da27afcae03b</td>\n",
              "      <td>2019101***</td>\n",
              "      <td>2019</td>\n",
              "      <td>2.0</td>\n",
              "      <td>F</td>\n",
              "      <td>21</td>\n",
              "      <td>Parda</td>\n",
              "      <td>Brasil</td>\n",
              "      <td>REINGRESSO SEGUNDO CICLO</td>\n",
              "      <td>ATIVO</td>\n",
              "      <td>f</td>\n",
              "      <td>35</td>\n",
              "    </tr>\n",
              "    <tr>\n",
              "      <th>2</th>\n",
              "      <td>0015735285c7b9cc5d97826f4f7a2564</td>\n",
              "      <td>2015106***</td>\n",
              "      <td>2015</td>\n",
              "      <td>10.0</td>\n",
              "      <td>M</td>\n",
              "      <td>29</td>\n",
              "      <td>Negra</td>\n",
              "      <td>Guiné Bissau</td>\n",
              "      <td>REOPCAO</td>\n",
              "      <td>FORMANDO</td>\n",
              "      <td>t</td>\n",
              "      <td>16</td>\n",
              "    </tr>\n",
              "    <tr>\n",
              "      <th>3</th>\n",
              "      <td>0016b115d8bcfce421766b146f40a388</td>\n",
              "      <td>2013102***</td>\n",
              "      <td>2013</td>\n",
              "      <td>14.0</td>\n",
              "      <td>M</td>\n",
              "      <td>39</td>\n",
              "      <td>Parda</td>\n",
              "      <td>Brasil</td>\n",
              "      <td>VESTIBULAR</td>\n",
              "      <td>ATIVO</td>\n",
              "      <td>f</td>\n",
              "      <td>1</td>\n",
              "    </tr>\n",
              "    <tr>\n",
              "      <th>4</th>\n",
              "      <td>0028bbd61a14e1a811dfc2617d5e2544</td>\n",
              "      <td>2017107***</td>\n",
              "      <td>2017</td>\n",
              "      <td>6.0</td>\n",
              "      <td>F</td>\n",
              "      <td>20</td>\n",
              "      <td>Negra</td>\n",
              "      <td>Brasil</td>\n",
              "      <td>SiSU</td>\n",
              "      <td>ATIVO</td>\n",
              "      <td>f</td>\n",
              "      <td>8</td>\n",
              "    </tr>\n",
              "  </tbody>\n",
              "</table>\n",
              "</div>"
            ],
            "text/plain": [
              "                        id_discente    matricula  ...  beneficiado_auxilio  id_curso\n",
              "0  0003ba85ff2e992a07361dbe7e28d0bf   2018102***  ...                    f        33\n",
              "1  00082dd79190f2e00b15da27afcae03b   2019101***  ...                    f        35\n",
              "2  0015735285c7b9cc5d97826f4f7a2564   2015106***  ...                    t        16\n",
              "3  0016b115d8bcfce421766b146f40a388   2013102***  ...                    f         1\n",
              "4  0028bbd61a14e1a811dfc2617d5e2544   2017107***  ...                    f         8\n",
              "\n",
              "[5 rows x 12 columns]"
            ]
          },
          "metadata": {
            "tags": []
          },
          "execution_count": 131
        }
      ]
    },
    {
      "cell_type": "markdown",
      "metadata": {
        "id": "kdr23aUQNtDC",
        "colab_type": "text"
      },
      "source": [
        "<br>\n",
        "<br>\n",
        "\n",
        "---\n",
        "\n",
        "<br>\n",
        "\n",
        "<h1> Criando o banco de dados\n",
        "\n",
        "**'df' deve ser usada como variavel temporaria**"
      ]
    },
    {
      "cell_type": "code",
      "metadata": {
        "id": "s9TqUNYUJjz0",
        "colab_type": "code",
        "outputId": "f4cce369-2eab-4cb4-9ac3-2c792bd1c4b2",
        "colab": {
          "base_uri": "https://localhost:8080/",
          "height": 52
        }
      },
      "source": [
        "!rm unilab.sqlite\n",
        "!ls"
      ],
      "execution_count": 0,
      "outputs": [
        {
          "output_type": "stream",
          "text": [
            "alunos.csv  disciplinas.json  matriculas_2018.csv\n",
            "cursos.csv  docentes.csv      sample_data\n"
          ],
          "name": "stdout"
        }
      ]
    },
    {
      "cell_type": "code",
      "metadata": {
        "id": "zUyAyp9EvXPz",
        "colab_type": "code",
        "outputId": "70afe1e6-9a4c-44be-8cc2-a33a3ef5c9b7",
        "colab": {
          "base_uri": "https://localhost:8080/",
          "height": 52
        }
      },
      "source": [
        "#criando e conectando banco\n",
        "conn = sqlite3.connect(\"unilab.sqlite\") #se o arquivo nao existir, um novo e gerado\n",
        "cursor = conn.cursor()\n",
        "conn.execute(\"PRAGMA foreign_keys = 1\") #garante que cada foreign key existe na tabela referenciada, se nao existir a insercao da erro\n",
        "!ls"
      ],
      "execution_count": 0,
      "outputs": [
        {
          "output_type": "stream",
          "text": [
            "alunos.csv  disciplinas.json  matriculas_2018.csv  unilab.sqlite\n",
            "cursos.csv  docentes.csv      sample_data\n"
          ],
          "name": "stdout"
        }
      ]
    },
    {
      "cell_type": "markdown",
      "metadata": {
        "id": "8CV5VVuZL5J6",
        "colab_type": "text"
      },
      "source": [
        "---\n",
        "\n",
        "<br>\n",
        "\n",
        "<h2>Criando tabela Unidades no bando de dados "
      ]
    },
    {
      "cell_type": "code",
      "metadata": {
        "id": "x6ZCv2H5sD91",
        "colab_type": "code",
        "outputId": "62c8fe5e-1024-42bf-a4a1-afdcd2ec2b51",
        "colab": {
          "base_uri": "https://localhost:8080/",
          "height": 34
        }
      },
      "source": [
        "#criando tabela UNIDADE\n",
        "cursor.execute('''CREATE TABLE UNIDADE\n",
        "         (sigla TEXT PRIMARY KEY NOT NULL,\n",
        "         unidade TEXT NOT NULL);''')"
      ],
      "execution_count": 0,
      "outputs": [
        {
          "output_type": "execute_result",
          "data": {
            "text/plain": [
              "<sqlite3.Cursor at 0x7f857564f3b0>"
            ]
          },
          "metadata": {
            "tags": []
          },
          "execution_count": 107
        }
      ]
    },
    {
      "cell_type": "code",
      "metadata": {
        "id": "TfgyVX6bsGP-",
        "colab_type": "code",
        "colab": {}
      },
      "source": [
        "#inserindo dados na tabela unidade\n",
        "df = pd.read_csv('docentes.csv')\n",
        "df = df[['sigla', 'unidade']].drop_duplicates() #tuplas tem de ser unicas\n",
        "df.to_sql('UNIDADE', conn, if_exists='append', index=False)\n",
        "unidades_sql = df.copy()"
      ],
      "execution_count": 0,
      "outputs": []
    },
    {
      "cell_type": "code",
      "metadata": {
        "id": "H1NHxMY7JOQ5",
        "colab_type": "code",
        "outputId": "c4451f2d-b821-40b6-a39d-ab2f4356aba8",
        "colab": {
          "base_uri": "https://localhost:8080/",
          "height": 332
        }
      },
      "source": [
        "unidades_sql"
      ],
      "execution_count": 0,
      "outputs": [
        {
          "output_type": "execute_result",
          "data": {
            "text/html": [
              "<div>\n",
              "<style scoped>\n",
              "    .dataframe tbody tr th:only-of-type {\n",
              "        vertical-align: middle;\n",
              "    }\n",
              "\n",
              "    .dataframe tbody tr th {\n",
              "        vertical-align: top;\n",
              "    }\n",
              "\n",
              "    .dataframe thead th {\n",
              "        text-align: right;\n",
              "    }\n",
              "</style>\n",
              "<table border=\"1\" class=\"dataframe\">\n",
              "  <thead>\n",
              "    <tr style=\"text-align: right;\">\n",
              "      <th></th>\n",
              "      <th>sigla</th>\n",
              "      <th>unidade</th>\n",
              "    </tr>\n",
              "  </thead>\n",
              "  <tbody>\n",
              "    <tr>\n",
              "      <th>0</th>\n",
              "      <td>ICS</td>\n",
              "      <td>INSTITUTO DE CIÊNCIAS DA SAÚDE</td>\n",
              "    </tr>\n",
              "    <tr>\n",
              "      <th>36</th>\n",
              "      <td>ICEN</td>\n",
              "      <td>INSTITUTO DE CIÊNCIAS EXATAS E DA NATUREZA</td>\n",
              "    </tr>\n",
              "    <tr>\n",
              "      <th>74</th>\n",
              "      <td>ICSA</td>\n",
              "      <td>INSTITUTO DE CIÊNCIAS SOCIAIS APLICADAS</td>\n",
              "    </tr>\n",
              "    <tr>\n",
              "      <th>93</th>\n",
              "      <td>IDR</td>\n",
              "      <td>INSTITUTO DE DESENVOLVIMENTO RURAL</td>\n",
              "    </tr>\n",
              "    <tr>\n",
              "      <th>122</th>\n",
              "      <td>IEDS</td>\n",
              "      <td>INSTITUTO DE ENGENHARIAS E DESENVOLVIMENTO SUS...</td>\n",
              "    </tr>\n",
              "    <tr>\n",
              "      <th>146</th>\n",
              "      <td>IH</td>\n",
              "      <td>INSTITUTO DE HUMANIDADES</td>\n",
              "    </tr>\n",
              "    <tr>\n",
              "      <th>220</th>\n",
              "      <td>IHLM</td>\n",
              "      <td>INSTITUTO DE HUMANIDADES E LETRAS/MALÊS</td>\n",
              "    </tr>\n",
              "    <tr>\n",
              "      <th>312</th>\n",
              "      <td>ILL</td>\n",
              "      <td>INSTITUTO DE LINGUAGENS E LITERATURAS</td>\n",
              "    </tr>\n",
              "    <tr>\n",
              "      <th>345</th>\n",
              "      <td>UNILAB</td>\n",
              "      <td>UNIVERSIDADE DA INTEGRAÇÃO INTERNACIONAL DA LU...</td>\n",
              "    </tr>\n",
              "  </tbody>\n",
              "</table>\n",
              "</div>"
            ],
            "text/plain": [
              "      sigla                                            unidade\n",
              "0       ICS                     INSTITUTO DE CIÊNCIAS DA SAÚDE\n",
              "36     ICEN         INSTITUTO DE CIÊNCIAS EXATAS E DA NATUREZA\n",
              "74     ICSA            INSTITUTO DE CIÊNCIAS SOCIAIS APLICADAS\n",
              "93      IDR                 INSTITUTO DE DESENVOLVIMENTO RURAL\n",
              "122    IEDS  INSTITUTO DE ENGENHARIAS E DESENVOLVIMENTO SUS...\n",
              "146      IH                           INSTITUTO DE HUMANIDADES\n",
              "220    IHLM            INSTITUTO DE HUMANIDADES E LETRAS/MALÊS\n",
              "312     ILL              INSTITUTO DE LINGUAGENS E LITERATURAS\n",
              "345  UNILAB  UNIVERSIDADE DA INTEGRAÇÃO INTERNACIONAL DA LU..."
            ]
          },
          "metadata": {
            "tags": []
          },
          "execution_count": 109
        }
      ]
    },
    {
      "cell_type": "markdown",
      "metadata": {
        "id": "5EaqTHU6MHej",
        "colab_type": "text"
      },
      "source": [
        "---\n",
        "\n",
        "<br>\n",
        "\n",
        "<h2> Criando tabela Docente no banco de dados"
      ]
    },
    {
      "cell_type": "code",
      "metadata": {
        "id": "NPRL-4G-sSrJ",
        "colab_type": "code",
        "outputId": "e1ab13c3-f85a-490b-a177-492b2ba106ad",
        "colab": {
          "base_uri": "https://localhost:8080/",
          "height": 34
        }
      },
      "source": [
        "#criando tabela DOCENTE\n",
        "cursor.execute('''CREATE TABLE DOCENTE\n",
        "         (nome TEXT NOT NULL,\n",
        "         situacao TEXT NOT NULL,\n",
        "         sigla TEXT NOT NULL,\n",
        "         PRIMARY KEY (nome, sigla),\n",
        "         FOREIGN KEY (sigla)\n",
        "          REFERENCES UNIDADE(sigla));''')\n",
        "\n",
        "#coloquei sigla e nome como chave primaria, aparentemente tem professores com nomes iguais em institutos diferentes"
      ],
      "execution_count": 0,
      "outputs": [
        {
          "output_type": "execute_result",
          "data": {
            "text/plain": [
              "<sqlite3.Cursor at 0x7f857564f3b0>"
            ]
          },
          "metadata": {
            "tags": []
          },
          "execution_count": 110
        }
      ]
    },
    {
      "cell_type": "code",
      "metadata": {
        "id": "RkYIIzb5vXSZ",
        "colab_type": "code",
        "colab": {}
      },
      "source": [
        "#Inserindo dados na tabela DOCENTE\n",
        "df = pd.read_csv('docentes.csv')\n",
        "df = df[['nome', 'sigla', 'situação']].drop_duplicates()\n",
        "df.columns = ['nome', 'sigla', 'situacao'] #troquei os nomes do dataframe pra ficar igual da tabela\n",
        "df.to_sql('DOCENTE', conn, if_exists='append', index=False) #if_exists=append garante que vai inserir na tabela existente\n",
        "                                                             #index=False evita que uma coluna adicional seja criada "
      ],
      "execution_count": 0,
      "outputs": []
    },
    {
      "cell_type": "code",
      "metadata": {
        "id": "l1e1GbdgLUj0",
        "colab_type": "code",
        "outputId": "9ec44234-147c-4b8b-ef0d-320640f8e977",
        "colab": {
          "base_uri": "https://localhost:8080/",
          "height": 424
        }
      },
      "source": [
        "docentes_sql = df.copy()\n",
        "docentes_sql"
      ],
      "execution_count": 0,
      "outputs": [
        {
          "output_type": "execute_result",
          "data": {
            "text/html": [
              "<div>\n",
              "<style scoped>\n",
              "    .dataframe tbody tr th:only-of-type {\n",
              "        vertical-align: middle;\n",
              "    }\n",
              "\n",
              "    .dataframe tbody tr th {\n",
              "        vertical-align: top;\n",
              "    }\n",
              "\n",
              "    .dataframe thead th {\n",
              "        text-align: right;\n",
              "    }\n",
              "</style>\n",
              "<table border=\"1\" class=\"dataframe\">\n",
              "  <thead>\n",
              "    <tr style=\"text-align: right;\">\n",
              "      <th></th>\n",
              "      <th>nome</th>\n",
              "      <th>sigla</th>\n",
              "      <th>situacao</th>\n",
              "    </tr>\n",
              "  </thead>\n",
              "  <tbody>\n",
              "    <tr>\n",
              "      <th>0</th>\n",
              "      <td>ANDREA GOMES LINARD</td>\n",
              "      <td>ICS</td>\n",
              "      <td>Ativo Permanente</td>\n",
              "    </tr>\n",
              "    <tr>\n",
              "      <th>1</th>\n",
              "      <td>LEILANE BARBOSA DE SOUSA</td>\n",
              "      <td>ICS</td>\n",
              "      <td>Ativo Permanente</td>\n",
              "    </tr>\n",
              "    <tr>\n",
              "      <th>2</th>\n",
              "      <td>MARIA AUXILIADORA BEZERRA FECHINE</td>\n",
              "      <td>ICS</td>\n",
              "      <td>Ativo Permanente</td>\n",
              "    </tr>\n",
              "    <tr>\n",
              "      <th>3</th>\n",
              "      <td>ANA CAROLINE ROCHA DE MELO LEITE</td>\n",
              "      <td>ICS</td>\n",
              "      <td>Ativo Permanente</td>\n",
              "    </tr>\n",
              "    <tr>\n",
              "      <th>4</th>\n",
              "      <td>FLAVIA PAULA MAGALHÃES MONTEIRO</td>\n",
              "      <td>ICS</td>\n",
              "      <td>Ativo Permanente</td>\n",
              "    </tr>\n",
              "    <tr>\n",
              "      <th>...</th>\n",
              "      <td>...</td>\n",
              "      <td>...</td>\n",
              "      <td>...</td>\n",
              "    </tr>\n",
              "    <tr>\n",
              "      <th>344</th>\n",
              "      <td>SUELI DA SILVA SARAIVA</td>\n",
              "      <td>ILL</td>\n",
              "      <td>Ativo Permanente</td>\n",
              "    </tr>\n",
              "    <tr>\n",
              "      <th>345</th>\n",
              "      <td>JOSE BERTO NETO</td>\n",
              "      <td>UNILAB</td>\n",
              "      <td>Ativo Permanente</td>\n",
              "    </tr>\n",
              "    <tr>\n",
              "      <th>346</th>\n",
              "      <td>MARIA ELIAS SOARES</td>\n",
              "      <td>UNILAB</td>\n",
              "      <td>Nomeado Cargo Comissão</td>\n",
              "    </tr>\n",
              "    <tr>\n",
              "      <th>347</th>\n",
              "      <td>MARIA DE FATIMA BARBOSA COELHO</td>\n",
              "      <td>UNILAB</td>\n",
              "      <td>Aposentado</td>\n",
              "    </tr>\n",
              "    <tr>\n",
              "      <th>348</th>\n",
              "      <td>PAULO SPELLER</td>\n",
              "      <td>UNILAB</td>\n",
              "      <td>Cedido</td>\n",
              "    </tr>\n",
              "  </tbody>\n",
              "</table>\n",
              "<p>347 rows × 3 columns</p>\n",
              "</div>"
            ],
            "text/plain": [
              "                                  nome   sigla                situacao\n",
              "0                  ANDREA GOMES LINARD     ICS        Ativo Permanente\n",
              "1             LEILANE BARBOSA DE SOUSA     ICS        Ativo Permanente\n",
              "2    MARIA AUXILIADORA BEZERRA FECHINE     ICS        Ativo Permanente\n",
              "3     ANA CAROLINE ROCHA DE MELO LEITE     ICS        Ativo Permanente\n",
              "4      FLAVIA PAULA MAGALHÃES MONTEIRO     ICS        Ativo Permanente\n",
              "..                                 ...     ...                     ...\n",
              "344             SUELI DA SILVA SARAIVA     ILL        Ativo Permanente\n",
              "345                    JOSE BERTO NETO  UNILAB        Ativo Permanente\n",
              "346                 MARIA ELIAS SOARES  UNILAB  Nomeado Cargo Comissão\n",
              "347     MARIA DE FATIMA BARBOSA COELHO  UNILAB              Aposentado\n",
              "348                      PAULO SPELLER  UNILAB                  Cedido\n",
              "\n",
              "[347 rows x 3 columns]"
            ]
          },
          "metadata": {
            "tags": []
          },
          "execution_count": 112
        }
      ]
    },
    {
      "cell_type": "markdown",
      "metadata": {
        "id": "s9k7x69JMQ3k",
        "colab_type": "text"
      },
      "source": [
        "<h3>Consulta de teste"
      ]
    },
    {
      "cell_type": "code",
      "metadata": {
        "id": "ibxkQUCAvXU_",
        "colab_type": "code",
        "outputId": "0e0d115c-54af-4bdd-89cc-7cf429e17bb5",
        "colab": {
          "base_uri": "https://localhost:8080/",
          "height": 1000
        }
      },
      "source": [
        "#query de exemplo com os dados acima\n",
        "df = pd.read_sql(\"SELECT * FROM DOCENTE WHERE sigla = 'ICS'\", conn)\n",
        "df"
      ],
      "execution_count": 0,
      "outputs": [
        {
          "output_type": "execute_result",
          "data": {
            "text/html": [
              "<div>\n",
              "<style scoped>\n",
              "    .dataframe tbody tr th:only-of-type {\n",
              "        vertical-align: middle;\n",
              "    }\n",
              "\n",
              "    .dataframe tbody tr th {\n",
              "        vertical-align: top;\n",
              "    }\n",
              "\n",
              "    .dataframe thead th {\n",
              "        text-align: right;\n",
              "    }\n",
              "</style>\n",
              "<table border=\"1\" class=\"dataframe\">\n",
              "  <thead>\n",
              "    <tr style=\"text-align: right;\">\n",
              "      <th></th>\n",
              "      <th>nome</th>\n",
              "      <th>situacao</th>\n",
              "      <th>sigla</th>\n",
              "    </tr>\n",
              "  </thead>\n",
              "  <tbody>\n",
              "    <tr>\n",
              "      <th>0</th>\n",
              "      <td>ANDREA GOMES LINARD</td>\n",
              "      <td>Ativo Permanente</td>\n",
              "      <td>ICS</td>\n",
              "    </tr>\n",
              "    <tr>\n",
              "      <th>1</th>\n",
              "      <td>LEILANE BARBOSA DE SOUSA</td>\n",
              "      <td>Ativo Permanente</td>\n",
              "      <td>ICS</td>\n",
              "    </tr>\n",
              "    <tr>\n",
              "      <th>2</th>\n",
              "      <td>MARIA AUXILIADORA BEZERRA FECHINE</td>\n",
              "      <td>Ativo Permanente</td>\n",
              "      <td>ICS</td>\n",
              "    </tr>\n",
              "    <tr>\n",
              "      <th>3</th>\n",
              "      <td>ANA CAROLINE ROCHA DE MELO LEITE</td>\n",
              "      <td>Ativo Permanente</td>\n",
              "      <td>ICS</td>\n",
              "    </tr>\n",
              "    <tr>\n",
              "      <th>4</th>\n",
              "      <td>FLAVIA PAULA MAGALHÃES MONTEIRO</td>\n",
              "      <td>Ativo Permanente</td>\n",
              "      <td>ICS</td>\n",
              "    </tr>\n",
              "    <tr>\n",
              "      <th>5</th>\n",
              "      <td>RAFAELLA PESSOA MOREIRA</td>\n",
              "      <td>Ativo Permanente</td>\n",
              "      <td>ICS</td>\n",
              "    </tr>\n",
              "    <tr>\n",
              "      <th>6</th>\n",
              "      <td>GILVAN FERREIRA FELIPE</td>\n",
              "      <td>Ativo Permanente</td>\n",
              "      <td>ICS</td>\n",
              "    </tr>\n",
              "    <tr>\n",
              "      <th>7</th>\n",
              "      <td>MONALIZA RIBEIRO MARIANO</td>\n",
              "      <td>Ativo Permanente</td>\n",
              "      <td>ICS</td>\n",
              "    </tr>\n",
              "    <tr>\n",
              "      <th>8</th>\n",
              "      <td>PAULA MARCIANA PINHEIRO DE OLIVEIRA</td>\n",
              "      <td>Ativo Permanente</td>\n",
              "      <td>ICS</td>\n",
              "    </tr>\n",
              "    <tr>\n",
              "      <th>9</th>\n",
              "      <td>EMILIA SOARES CHAVES ROUBERTE</td>\n",
              "      <td>Ativo Permanente</td>\n",
              "      <td>ICS</td>\n",
              "    </tr>\n",
              "    <tr>\n",
              "      <th>10</th>\n",
              "      <td>CAROLINA MARIA DE LIMA CARVALHO</td>\n",
              "      <td>Ativo Permanente</td>\n",
              "      <td>ICS</td>\n",
              "    </tr>\n",
              "    <tr>\n",
              "      <th>11</th>\n",
              "      <td>ADLLER GONÇALVES COSTA BARRETO</td>\n",
              "      <td>Ativo Permanente</td>\n",
              "      <td>ICS</td>\n",
              "    </tr>\n",
              "    <tr>\n",
              "      <th>12</th>\n",
              "      <td>LYDIA VIEIRA FREITAS DOS SANTOS</td>\n",
              "      <td>Ativo Permanente</td>\n",
              "      <td>ICS</td>\n",
              "    </tr>\n",
              "    <tr>\n",
              "      <th>13</th>\n",
              "      <td>VANESSA EMILLE CARVALHO DE SOUSA FREIRE</td>\n",
              "      <td>Professor Visitante</td>\n",
              "      <td>ICS</td>\n",
              "    </tr>\n",
              "    <tr>\n",
              "      <th>14</th>\n",
              "      <td>EDMARA CHAVES COSTA</td>\n",
              "      <td>Ativo Permanente</td>\n",
              "      <td>ICS</td>\n",
              "    </tr>\n",
              "    <tr>\n",
              "      <th>15</th>\n",
              "      <td>CAMILA CHAVES DA COSTA</td>\n",
              "      <td>Ativo Permanente</td>\n",
              "      <td>ICS</td>\n",
              "    </tr>\n",
              "    <tr>\n",
              "      <th>16</th>\n",
              "      <td>ANA PAULA FRAGOSO DE FREITAS</td>\n",
              "      <td>Professor Substituto</td>\n",
              "      <td>ICS</td>\n",
              "    </tr>\n",
              "    <tr>\n",
              "      <th>17</th>\n",
              "      <td>ALANA SANTOS MONTE</td>\n",
              "      <td>Ativo Permanente</td>\n",
              "      <td>ICS</td>\n",
              "    </tr>\n",
              "    <tr>\n",
              "      <th>18</th>\n",
              "      <td>JEFERSON FALCAO DO AMARAL</td>\n",
              "      <td>Ativo Permanente</td>\n",
              "      <td>ICS</td>\n",
              "    </tr>\n",
              "    <tr>\n",
              "      <th>19</th>\n",
              "      <td>THIAGO MOURA DE ARAÚJO</td>\n",
              "      <td>Ativo Permanente</td>\n",
              "      <td>ICS</td>\n",
              "    </tr>\n",
              "    <tr>\n",
              "      <th>20</th>\n",
              "      <td>PATRICIA FREIRE DE VASCONCELOS</td>\n",
              "      <td>Ativo Permanente</td>\n",
              "      <td>ICS</td>\n",
              "    </tr>\n",
              "    <tr>\n",
              "      <th>21</th>\n",
              "      <td>JAMILE MAGALHÃES FERREIRA</td>\n",
              "      <td>Ativo Permanente</td>\n",
              "      <td>ICS</td>\n",
              "    </tr>\n",
              "    <tr>\n",
              "      <th>22</th>\n",
              "      <td>EYSLER GONÇALVES MAIA BRASIL</td>\n",
              "      <td>Ativo Permanente</td>\n",
              "      <td>ICS</td>\n",
              "    </tr>\n",
              "    <tr>\n",
              "      <th>23</th>\n",
              "      <td>TAHISSA FROTA CAVALCANTE</td>\n",
              "      <td>Ativo Permanente</td>\n",
              "      <td>ICS</td>\n",
              "    </tr>\n",
              "    <tr>\n",
              "      <th>24</th>\n",
              "      <td>VIVIAN SARAIVA VERAS</td>\n",
              "      <td>Ativo Permanente</td>\n",
              "      <td>ICS</td>\n",
              "    </tr>\n",
              "    <tr>\n",
              "      <th>25</th>\n",
              "      <td>NATASHA MARQUES FROTA</td>\n",
              "      <td>Ativo Permanente</td>\n",
              "      <td>ICS</td>\n",
              "    </tr>\n",
              "    <tr>\n",
              "      <th>26</th>\n",
              "      <td>ALBERTINA ANTONIELLY SYDNEY DE SOUSA</td>\n",
              "      <td>Professor Visitante</td>\n",
              "      <td>ICS</td>\n",
              "    </tr>\n",
              "    <tr>\n",
              "      <th>27</th>\n",
              "      <td>ERIKA HELENA SALLES DE BRITO</td>\n",
              "      <td>Ativo Permanente</td>\n",
              "      <td>ICS</td>\n",
              "    </tr>\n",
              "    <tr>\n",
              "      <th>28</th>\n",
              "      <td>FRANCISCO WASHINGTON ARAUJO BARROS NEPOMUCENO</td>\n",
              "      <td>Ativo Permanente</td>\n",
              "      <td>ICS</td>\n",
              "    </tr>\n",
              "    <tr>\n",
              "      <th>29</th>\n",
              "      <td>EMANUELLA SILVA JOVENTINO MELO</td>\n",
              "      <td>Ativo Permanente</td>\n",
              "      <td>ICS</td>\n",
              "    </tr>\n",
              "    <tr>\n",
              "      <th>30</th>\n",
              "      <td>ADRIA MARCELA VIEIRA FERREIRA</td>\n",
              "      <td>Professor Substituto</td>\n",
              "      <td>ICS</td>\n",
              "    </tr>\n",
              "    <tr>\n",
              "      <th>31</th>\n",
              "      <td>ANNE FAYMA LOPES CHAVES</td>\n",
              "      <td>Ativo Permanente</td>\n",
              "      <td>ICS</td>\n",
              "    </tr>\n",
              "    <tr>\n",
              "      <th>32</th>\n",
              "      <td>MARCIO FLAVIO MOURA DE ARAUJO</td>\n",
              "      <td>Ativo Permanente</td>\n",
              "      <td>ICS</td>\n",
              "    </tr>\n",
              "    <tr>\n",
              "      <th>33</th>\n",
              "      <td>DANIEL FREIRE DE SOUSA</td>\n",
              "      <td>Ativo Permanente</td>\n",
              "      <td>ICS</td>\n",
              "    </tr>\n",
              "    <tr>\n",
              "      <th>34</th>\n",
              "      <td>MARIANNA CARVALHO E SOUZA LEÃO CAVALCANTI</td>\n",
              "      <td>Ativo Permanente</td>\n",
              "      <td>ICS</td>\n",
              "    </tr>\n",
              "  </tbody>\n",
              "</table>\n",
              "</div>"
            ],
            "text/plain": [
              "                                             nome              situacao sigla\n",
              "0                             ANDREA GOMES LINARD      Ativo Permanente   ICS\n",
              "1                        LEILANE BARBOSA DE SOUSA      Ativo Permanente   ICS\n",
              "2               MARIA AUXILIADORA BEZERRA FECHINE      Ativo Permanente   ICS\n",
              "3                ANA CAROLINE ROCHA DE MELO LEITE      Ativo Permanente   ICS\n",
              "4                 FLAVIA PAULA MAGALHÃES MONTEIRO      Ativo Permanente   ICS\n",
              "5                         RAFAELLA PESSOA MOREIRA      Ativo Permanente   ICS\n",
              "6                          GILVAN FERREIRA FELIPE      Ativo Permanente   ICS\n",
              "7                        MONALIZA RIBEIRO MARIANO      Ativo Permanente   ICS\n",
              "8             PAULA MARCIANA PINHEIRO DE OLIVEIRA      Ativo Permanente   ICS\n",
              "9                   EMILIA SOARES CHAVES ROUBERTE      Ativo Permanente   ICS\n",
              "10                CAROLINA MARIA DE LIMA CARVALHO      Ativo Permanente   ICS\n",
              "11                 ADLLER GONÇALVES COSTA BARRETO      Ativo Permanente   ICS\n",
              "12                LYDIA VIEIRA FREITAS DOS SANTOS      Ativo Permanente   ICS\n",
              "13        VANESSA EMILLE CARVALHO DE SOUSA FREIRE   Professor Visitante   ICS\n",
              "14                            EDMARA CHAVES COSTA      Ativo Permanente   ICS\n",
              "15                         CAMILA CHAVES DA COSTA      Ativo Permanente   ICS\n",
              "16                   ANA PAULA FRAGOSO DE FREITAS  Professor Substituto   ICS\n",
              "17                             ALANA SANTOS MONTE      Ativo Permanente   ICS\n",
              "18                      JEFERSON FALCAO DO AMARAL      Ativo Permanente   ICS\n",
              "19                         THIAGO MOURA DE ARAÚJO      Ativo Permanente   ICS\n",
              "20                 PATRICIA FREIRE DE VASCONCELOS      Ativo Permanente   ICS\n",
              "21                      JAMILE MAGALHÃES FERREIRA      Ativo Permanente   ICS\n",
              "22                   EYSLER GONÇALVES MAIA BRASIL      Ativo Permanente   ICS\n",
              "23                       TAHISSA FROTA CAVALCANTE      Ativo Permanente   ICS\n",
              "24                           VIVIAN SARAIVA VERAS      Ativo Permanente   ICS\n",
              "25                          NATASHA MARQUES FROTA      Ativo Permanente   ICS\n",
              "26           ALBERTINA ANTONIELLY SYDNEY DE SOUSA   Professor Visitante   ICS\n",
              "27                   ERIKA HELENA SALLES DE BRITO      Ativo Permanente   ICS\n",
              "28  FRANCISCO WASHINGTON ARAUJO BARROS NEPOMUCENO      Ativo Permanente   ICS\n",
              "29                 EMANUELLA SILVA JOVENTINO MELO      Ativo Permanente   ICS\n",
              "30                  ADRIA MARCELA VIEIRA FERREIRA  Professor Substituto   ICS\n",
              "31                        ANNE FAYMA LOPES CHAVES      Ativo Permanente   ICS\n",
              "32                  MARCIO FLAVIO MOURA DE ARAUJO      Ativo Permanente   ICS\n",
              "33                         DANIEL FREIRE DE SOUSA      Ativo Permanente   ICS\n",
              "34      MARIANNA CARVALHO E SOUZA LEÃO CAVALCANTI      Ativo Permanente   ICS"
            ]
          },
          "metadata": {
            "tags": []
          },
          "execution_count": 113
        }
      ]
    },
    {
      "cell_type": "markdown",
      "metadata": {
        "id": "KPJ8clFRM0fU",
        "colab_type": "text"
      },
      "source": [
        "---\n",
        "\n",
        "<br>\n",
        "\n",
        "<h2> Criando tabela Cursos no banco de dados"
      ]
    },
    {
      "cell_type": "code",
      "metadata": {
        "id": "3ZWOMrlkOfH6",
        "colab_type": "code",
        "outputId": "706244e5-958f-4de8-f402-8ee4b1ad0b2a",
        "colab": {
          "base_uri": "https://localhost:8080/",
          "height": 34
        }
      },
      "source": [
        "#criando tabela CURSOS\n",
        "\n",
        "cursor.execute('''CREATE TABLE CURSOS \n",
        "         (id_curso INTEGER PRIMARY KEY NOT NULL, \n",
        "         nome_curso TEXT NOT NULL, \n",
        "         modalidade TEXT NOT NULL, \n",
        "         area_conhecimento TEXT NOT NULL); ''')\n",
        "\n",
        "#coloquei sigla e nome como chave primaria, aparentemente tem professores com nomes iguais em institutos diferentes"
      ],
      "execution_count": 0,
      "outputs": [
        {
          "output_type": "execute_result",
          "data": {
            "text/plain": [
              "<sqlite3.Cursor at 0x7f857564f3b0>"
            ]
          },
          "metadata": {
            "tags": []
          },
          "execution_count": 114
        }
      ]
    },
    {
      "cell_type": "code",
      "metadata": {
        "id": "bjN06cXdOu76",
        "colab_type": "code",
        "outputId": "22deb88c-e88e-4122-ca27-6152afdda424",
        "colab": {
          "base_uri": "https://localhost:8080/",
          "height": 52
        }
      },
      "source": [
        "df = cursos.copy()\n",
        "if('Município' in df.columns):\n",
        "  df = df.drop('Município',1)\n",
        "print(df.columns)\n",
        "df.columns = ['id_curso', 'nome_curso', 'modalidade', 'area_conhecimento'] #troquei os nomes do dataframe pra ficar igual da tabela\n",
        "print(df.columns)"
      ],
      "execution_count": 0,
      "outputs": [
        {
          "output_type": "stream",
          "text": [
            "Index(['ID', 'Curso', 'Modalidade Educação', 'Área Conhecimento CNPQ'], dtype='object')\n",
            "Index(['id_curso', 'nome_curso', 'modalidade', 'area_conhecimento'], dtype='object')\n"
          ],
          "name": "stdout"
        }
      ]
    },
    {
      "cell_type": "code",
      "metadata": {
        "id": "e3N9ARbOvXXb",
        "colab_type": "code",
        "colab": {}
      },
      "source": [
        "#Inserindo dados na tabela CURSOS\n",
        "df.to_sql('CURSO', conn, if_exists='append', index=False) #if_exists=append garante que vai inserir na tabela existente\n",
        "                                                             #index=False evita que uma coluna adicional seja criada "
      ],
      "execution_count": 0,
      "outputs": []
    },
    {
      "cell_type": "markdown",
      "metadata": {
        "id": "1kyVWR7XgXP6",
        "colab_type": "text"
      },
      "source": [
        "<h3> Consulta Teste"
      ]
    },
    {
      "cell_type": "code",
      "metadata": {
        "id": "101MMkn-NAhR",
        "colab_type": "code",
        "outputId": "2bff121f-2250-4f14-c77d-403714e7d130",
        "colab": {
          "base_uri": "https://localhost:8080/",
          "height": 143
        }
      },
      "source": [
        "df = pd.read_sql(\"SELECT * FROM CURSO WHERE area_conhecimento = 'Ciências Sociais Aplicadas'\", conn)\n",
        "df"
      ],
      "execution_count": 0,
      "outputs": [
        {
          "output_type": "execute_result",
          "data": {
            "text/html": [
              "<div>\n",
              "<style scoped>\n",
              "    .dataframe tbody tr th:only-of-type {\n",
              "        vertical-align: middle;\n",
              "    }\n",
              "\n",
              "    .dataframe tbody tr th {\n",
              "        vertical-align: top;\n",
              "    }\n",
              "\n",
              "    .dataframe thead th {\n",
              "        text-align: right;\n",
              "    }\n",
              "</style>\n",
              "<table border=\"1\" class=\"dataframe\">\n",
              "  <thead>\n",
              "    <tr style=\"text-align: right;\">\n",
              "      <th></th>\n",
              "      <th>id_curso</th>\n",
              "      <th>nome_curso</th>\n",
              "      <th>modalidade</th>\n",
              "      <th>area_conhecimento</th>\n",
              "    </tr>\n",
              "  </thead>\n",
              "  <tbody>\n",
              "    <tr>\n",
              "      <th>0</th>\n",
              "      <td>1</td>\n",
              "      <td>ADMINISTRAÇÃO PÚBLICA</td>\n",
              "      <td>A Distância</td>\n",
              "      <td>Ciências Sociais Aplicadas</td>\n",
              "    </tr>\n",
              "    <tr>\n",
              "      <th>1</th>\n",
              "      <td>2</td>\n",
              "      <td>ADMINISTRAÇÃO  PÚBLICA</td>\n",
              "      <td>Presencial - Trimestral</td>\n",
              "      <td>Ciências Sociais Aplicadas</td>\n",
              "    </tr>\n",
              "    <tr>\n",
              "      <th>2</th>\n",
              "      <td>3</td>\n",
              "      <td>ADMINISTRAÇÃO PÚBLICA - SEMESTRAL</td>\n",
              "      <td>Presencial</td>\n",
              "      <td>Ciências Sociais Aplicadas</td>\n",
              "    </tr>\n",
              "  </tbody>\n",
              "</table>\n",
              "</div>"
            ],
            "text/plain": [
              "   id_curso  ...           area_conhecimento\n",
              "0         1  ...  Ciências Sociais Aplicadas\n",
              "1         2  ...  Ciências Sociais Aplicadas\n",
              "2         3  ...  Ciências Sociais Aplicadas\n",
              "\n",
              "[3 rows x 4 columns]"
            ]
          },
          "metadata": {
            "tags": []
          },
          "execution_count": 91
        }
      ]
    },
    {
      "cell_type": "code",
      "metadata": {
        "id": "_isOzBfzQlT8",
        "colab_type": "code",
        "colab": {}
      },
      "source": [
        ""
      ],
      "execution_count": 0,
      "outputs": []
    },
    {
      "cell_type": "markdown",
      "metadata": {
        "id": "WMUalDhyAdSh",
        "colab_type": "text"
      },
      "source": [
        "---\n",
        "\n",
        "<br>\n",
        "\n",
        "<h1>Consultas</h1>\n",
        "<h2>Consultas usando Projeção e seleção </h2>\n",
        "<br>\n",
        "<h3>Consulta 1"
      ]
    },
    {
      "cell_type": "code",
      "metadata": {
        "id": "AlQ1lCXaBnfW",
        "colab_type": "code",
        "colab": {}
      },
      "source": [
        ""
      ],
      "execution_count": 0,
      "outputs": []
    },
    {
      "cell_type": "markdown",
      "metadata": {
        "id": "DX8yHHHFBvJF",
        "colab_type": "text"
      },
      "source": [
        "<h3>Consulta 2"
      ]
    },
    {
      "cell_type": "code",
      "metadata": {
        "id": "JETBMboaBoZt",
        "colab_type": "code",
        "colab": {}
      },
      "source": [
        ""
      ],
      "execution_count": 0,
      "outputs": []
    },
    {
      "cell_type": "markdown",
      "metadata": {
        "id": "GVrtgZh4Bn33",
        "colab_type": "text"
      },
      "source": [
        "---\n",
        "\n",
        "<br>\n",
        "\n",
        "<h2>Consultas envolvendo junção de duas relações \n",
        "<br>\n",
        "<h3>Consulta 1 "
      ]
    },
    {
      "cell_type": "code",
      "metadata": {
        "id": "-4mupQOgCGNN",
        "colab_type": "code",
        "colab": {}
      },
      "source": [
        ""
      ],
      "execution_count": 0,
      "outputs": []
    },
    {
      "cell_type": "markdown",
      "metadata": {
        "id": "6acCd2FpCGYN",
        "colab_type": "text"
      },
      "source": [
        "<h3>Consulta 2"
      ]
    },
    {
      "cell_type": "code",
      "metadata": {
        "id": "2XYnIqRUCGkM",
        "colab_type": "code",
        "colab": {}
      },
      "source": [
        ""
      ],
      "execution_count": 0,
      "outputs": []
    },
    {
      "cell_type": "markdown",
      "metadata": {
        "id": "xaUV_1jpCtbn",
        "colab_type": "text"
      },
      "source": [
        "<h3>Consulta 3"
      ]
    },
    {
      "cell_type": "code",
      "metadata": {
        "id": "TK3dguXMCtik",
        "colab_type": "code",
        "colab": {}
      },
      "source": [
        ""
      ],
      "execution_count": 0,
      "outputs": []
    },
    {
      "cell_type": "markdown",
      "metadata": {
        "id": "ufPozVQqCGvN",
        "colab_type": "text"
      },
      "source": [
        "---\n",
        "\n",
        "<br>\n",
        "\n",
        "<h2>Consultas envolvendo junção de três ou mais relações\n",
        "\n",
        "<br>\n",
        "\n",
        "<h3>Consulta 1"
      ]
    },
    {
      "cell_type": "code",
      "metadata": {
        "id": "EhqiyHo0Cmmu",
        "colab_type": "code",
        "colab": {}
      },
      "source": [
        ""
      ],
      "execution_count": 0,
      "outputs": []
    },
    {
      "cell_type": "markdown",
      "metadata": {
        "id": "1NhIp6_ICmvw",
        "colab_type": "text"
      },
      "source": [
        "<h3>Consulta 2"
      ]
    },
    {
      "cell_type": "code",
      "metadata": {
        "id": "PldH6fW3Cm4n",
        "colab_type": "code",
        "colab": {}
      },
      "source": [
        ""
      ],
      "execution_count": 0,
      "outputs": []
    },
    {
      "cell_type": "markdown",
      "metadata": {
        "id": "ElOZZbMjCnBV",
        "colab_type": "text"
      },
      "source": [
        "<h3>Consulta 3"
      ]
    },
    {
      "cell_type": "code",
      "metadata": {
        "id": "e5tWXqqpCnLn",
        "colab_type": "code",
        "colab": {}
      },
      "source": [
        ""
      ],
      "execution_count": 0,
      "outputs": []
    },
    {
      "cell_type": "markdown",
      "metadata": {
        "id": "Ncih_F-9CnY2",
        "colab_type": "text"
      },
      "source": [
        "---\n",
        "\n",
        "<br>\n",
        "\n",
        "<h2>Consultas envolvendo agregação sobre junção de duas ou mais relações\n",
        "\n",
        "<br>\n",
        "\n",
        "<h3>Consulta 1\n"
      ]
    },
    {
      "cell_type": "code",
      "metadata": {
        "id": "Rg67zTahDC8-",
        "colab_type": "code",
        "colab": {}
      },
      "source": [
        ""
      ],
      "execution_count": 0,
      "outputs": []
    },
    {
      "cell_type": "markdown",
      "metadata": {
        "id": "LW1Fn6m9DDSl",
        "colab_type": "text"
      },
      "source": [
        "<h3>Consulta 2"
      ]
    },
    {
      "cell_type": "code",
      "metadata": {
        "id": "doaCqHswDDaP",
        "colab_type": "code",
        "colab": {}
      },
      "source": [
        ""
      ],
      "execution_count": 0,
      "outputs": []
    },
    {
      "cell_type": "markdown",
      "metadata": {
        "id": "J0dQoT5-Di7M",
        "colab_type": "text"
      },
      "source": [
        "---\n",
        "\n",
        "<br>\n",
        "\n",
        "<h1>Autoavaliação dos membros</h1>\n",
        "\n",
        "\n",
        "\n",
        "\n",
        "\n",
        "\n"
      ]
    },
    {
      "cell_type": "code",
      "metadata": {
        "id": "IY10ZOIcDmvZ",
        "colab_type": "code",
        "colab": {}
      },
      "source": [
        ""
      ],
      "execution_count": 0,
      "outputs": []
    },
    {
      "cell_type": "code",
      "metadata": {
        "id": "6tJfls_ODm0o",
        "colab_type": "code",
        "colab": {}
      },
      "source": [
        ""
      ],
      "execution_count": 0,
      "outputs": []
    },
    {
      "cell_type": "code",
      "metadata": {
        "id": "J0Cxm7cTDm3S",
        "colab_type": "code",
        "colab": {}
      },
      "source": [
        ""
      ],
      "execution_count": 0,
      "outputs": []
    },
    {
      "cell_type": "code",
      "metadata": {
        "id": "L_nnLnkaDm53",
        "colab_type": "code",
        "colab": {}
      },
      "source": [
        ""
      ],
      "execution_count": 0,
      "outputs": []
    },
    {
      "cell_type": "markdown",
      "metadata": {
        "id": "qI8GTyuJAkL5",
        "colab_type": "text"
      },
      "source": [
        "# Divisão quanto ao tratamento de dados:\n",
        "Luiz: Docentes e disciplinas\n",
        "\n",
        "Lucas: alunos\n",
        "\n",
        "Tales: matriculas\n",
        "\n",
        "Pedro: Cursos\n",
        "\n",
        "<br>\n",
        "<br>\n",
        "\n",
        "Obs1.: Os nomes acima seguem o padrao do dataframe que pode ser vista abaixo\n",
        "\n",
        "Obs2.: Mantenham o padrão dos nomes\n",
        "\n",
        "Obs3.: Esse notebook será o entregavel final, então a medida que foram fazendo as coisas vao documentando para ficar mais facil\n",
        "\n",
        "Obs4.: Se nao for possivel alterar esse notebook no original, salvem ele e trabalhem separadamente e depois a gente junta tudo"
      ]
    }
  ]
}